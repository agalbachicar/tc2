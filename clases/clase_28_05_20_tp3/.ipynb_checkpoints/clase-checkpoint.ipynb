{
 "cells": [
  {
   "cell_type": "markdown",
   "metadata": {},
   "source": [
    "# Clase 28/05/2020\n",
    "\n",
    "## Ejercicios TP3\n",
    "\n",
    "### Ejercicio 2\n",
    "\n",
    "Obtener la Z(s) que corresponde a la siguiente función de fase:\n",
    "\n",
    "$ \\phi_{(w)} = tg^{-1} \\frac{-w^5 + 5 w^3 - 2w}{2 w^4 - w^2 + 5}$\n",
    "\n",
    "Ayudas:\n",
    "\n",
    "- Revisar [apunte campus](https://www.campusvirtual.frba.utn.edu.ar/especialidad/pluginfile.php/61513/mod_resource/content/2/FASC03conFiguras.pdf) y [notebook](https://nbviewer.jupyter.org/github/agalbachicar/tc2/blob/master/notebooks/parte_de_funcion.ipynb) sobre parte de función. \n",
    "- ¡Tengan cuidado al pasar de $w$ a $s$!\n",
    "\n",
    "### Ejercicio 5\n",
    "\n",
    "El siguiente diagrama de Bode corresponde a la respuesta en módulo de la transferencia de una red de énfasis, utilizada en un transmisor de FM para Broadcasting. Diseñar el circuito, verificando el mismo mediante simulación.\n",
    "\n",
    "<img src='bode_enfasis.png'>\n",
    "\n",
    "Ayudas:\n",
    "\n",
    "- ¿Qué es una octava?\n",
    "- ¿Qué estructura me sirve para implementar una bilineal? ¿Y una bicuadrática?\n"
   ]
  },
  {
   "cell_type": "code",
   "execution_count": null,
   "metadata": {},
   "outputs": [],
   "source": []
  }
 ],
 "metadata": {
  "kernelspec": {
   "display_name": "Python 3",
   "language": "python",
   "name": "python3"
  },
  "language_info": {
   "codemirror_mode": {
    "name": "ipython",
    "version": 3
   },
   "file_extension": ".py",
   "mimetype": "text/x-python",
   "name": "python",
   "nbconvert_exporter": "python",
   "pygments_lexer": "ipython3",
   "version": "3.7.4"
  }
 },
 "nbformat": 4,
 "nbformat_minor": 2
}
