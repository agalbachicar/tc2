{
 "cells": [
  {
   "cell_type": "markdown",
   "metadata": {},
   "source": [
    "# Estructuras de segundo orden - partes\n",
    "\n",
    "## Introduccion\n",
    "\n",
    "Las estructuras de segundo orden son de especial importancia en el análisis y síntesis de estructuras circuitales. Esto se debe a que conforman con las estructuras de primer orden los bloques fundamentales para la confección de estructuras mas complejas.\n",
    "\n",
    "En particular, vamos a detenernos en estructuras modelizadas de la siguiente forma:\n",
    "\n",
    "$H_{(s)} = K\\frac{s^2 + s \\frac{w_{0z}}{Q_z} + w_{0z}^2}{s^2 + s \\frac{w_{0p}}{Q_p} + w_{0p}^2}$\n",
    "\n",
    "Donde:\n",
    "\n",
    "- $K$: es la ganancia del circuito.\n",
    "- $s$: es la variable compleja de Laplace tal que $s = \\sigma + j\\omega$.\n",
    "- $w_{0i}$: es la frecuencia angular característica de polos y ceros. $_p$ refiere a polos y $_z$ refiere a ceros.\n",
    "- $Q_i$: es el factor de selectividad para el par de singularidades. $_p$ refiere a polos y $_z$ refiere a ceros.\n",
    "\n",
    "Modificando los valores anteriores, obtendremos estructuras pasa bajos, banda, altos, elimina banda, todo, atenuadores, amplificadores, etc.\n",
    "\n",
    "## Singularidades\n",
    "\n",
    "El numerador y el denominador de la función transferencia poseen al misma forma polinómica con distintos coeficientes. La modificación de dichos coeficientes o singularidades permite las distintas formas topológicas circuitales.\n",
    "\n",
    "Es importante destacar que a lo largo de la materia veremos como modificando el posicionamiento de los ceros modificaremos la topología del circuito.\n",
    "\n",
    "Analicemos por un instante la forma polinómica tnato del numerador como del denominador:\n",
    "\n",
    "$P_{(s)} = s^2 + s \\frac{w_{0}}{Q} + w_{0}^2$\n",
    "\n",
    "Y calculemos las raíces de $P_{(s)}$:\n",
    "\n",
    "$s_{1,2}= -\\frac{\\omega_0}{2Q} \\pm \\frac{1}{2} \\sqrt{\\frac{w_0^2}{Q^2} - 4 w_0^2}$\n",
    "\n",
    "$s_{1,2}= -\\frac{\\omega_0}{2Q} \\pm \\frac{w_0}{2} \\sqrt{\\frac{1}{Q^2} - 4}$\n",
    "\n",
    "Entonces:\n",
    "\n",
    "- Si $Q = \\frac{1}{2}$: tenemos dos raíces iguales y reales.\n",
    "- Si $Q < \\frac{1}{2}$: tenemos dos raíces reales y distintas.\n",
    "- Si $Q > \\frac{1}{2}$: tenemos raíces complejas y conjugadas.\n",
    "\n",
    "*Nota:* partimos de la premisa que $Q$ es una cantidad real y positiva.\n",
    "\n",
    "Analicemos un instante el lugar que ocupan las raíces en el rango $Q \\geq \\frac{1}{2}$. Para ello, como el discriminante de la raíz es negativo lo invertimos sabiendo que resultará en raíces complejas conjugas cuyo caso extremo tiene a su parte imaginaria nula. Calculemos el módulo cuadrado de una de las raíces:\n",
    "\n",
    "$\\frac{\\omega_0}{4Q^2} + \\frac{4w_0^2}{4} - \\frac{\\omega_0}{4Q^2} = w_0^2$\n",
    "\n",
    "Podemos asegurar que la distancia al origen será siempre $w_0$ y que el lugar que ocupan dichas raíces es una circunferencia.\n",
    "\n",
    "Por otra parte, el rol de $Q$ será el de proveer la modulación angular de la posición de las raíces. Esto lo podemos representar de la siguiente forma:\n",
    "\n",
    "$cos \\alpha = \\frac{\\frac{w_0}{2Q}}{w_0}$\n",
    "\n",
    "$cos \\alpha = \\frac{1}{2Q}$"
   ]
  },
  {
   "cell_type": "code",
   "execution_count": null,
   "metadata": {},
   "outputs": [],
   "source": []
  }
 ],
 "metadata": {
  "kernelspec": {
   "display_name": "Python 3",
   "language": "python",
   "name": "python3"
  },
  "language_info": {
   "codemirror_mode": {
    "name": "ipython",
    "version": 3
   },
   "file_extension": ".py",
   "mimetype": "text/x-python",
   "name": "python",
   "nbconvert_exporter": "python",
   "pygments_lexer": "ipython3",
   "version": "3.7.4"
  }
 },
 "nbformat": 4,
 "nbformat_minor": 2
}
