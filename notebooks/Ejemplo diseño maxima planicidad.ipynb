{
 "cells": [
  {
   "cell_type": "markdown",
   "metadata": {},
   "source": [
    "# Ejemplo diseño filtro de máxima planicidad\n",
    "\n",
    "## Requisitos de plantilla\n",
    "\n",
    "Diseñe un filtro que cumpla con la siguiente plantilla:\n",
    "\n",
    "|  $\\alpha$               |  $f$  |\n",
    "|-------------------------|-------|\n",
    "|  $\\alpha_{min}$ = 2dB   | 1KHz  |\n",
    "|  $\\alpha_{min}$ = 30dB  | 4KHz  |\n",
    "\n",
    "Dicho circuito debe ser de máxima planicidad."
   ]
  },
  {
   "cell_type": "markdown",
   "metadata": {},
   "source": [
    "## Cálculo de $\\epsilon$ y $N$\n",
    "\n",
    "Al tener los valores de plantilla del filtro, lo primero que debemos calcular son los parámetros del filtro de máxima planicidad, $\\epsilon$ y $N$. Para ello, partimos de la expresión del filtro en $w$:\n",
    "\n",
    "$|H_{(jw)}|^2 = \\frac{1}{1 + \\epsilon^2 w^{2N}}$\n",
    "\n",
    "$|H_{(jw)}| = \\frac{1}{\\sqrt{1 + \\epsilon^2 w^{2N}}}$\n",
    "\n",
    "Donde $w$ es una variable normalizada, es decir, los valores de frecuencia provistos en la plantilla deben ser normalizados. Así, podemos obtener la siguiente plantilla:\n",
    "\n",
    "\n",
    "|  $\\alpha$               |  $w$  |\n",
    "|-------------------------|-------|\n",
    "|  $\\alpha_{min}$ = 2dB   | 1     |\n",
    "|  $\\alpha_{min}$ = 30dB  | 4     |\n",
    "\n",
    "Tras haber aplicado una norma de frecuencia $N_{\\Omega_1} = 2 \\pi 1KHz$."
   ]
  },
  {
   "cell_type": "code",
   "execution_count": 1,
   "metadata": {},
   "outputs": [],
   "source": [
    "alpha_min = 2    # dB\n",
    "alpha_max = 30   # dB\n",
    "w_p = 1\n",
    "w_s = 4"
   ]
  },
  {
   "cell_type": "markdown",
   "metadata": {},
   "source": [
    "Entonces, a partir de la expresión de la transferencia de la cual conocemos dos valores de $w$ y dos valores del módulo de la atenuación, vamos a despejar los parámetros del filtro. Comencemos por $w_{p} = 1$:\n",
    "\n",
    "$\\alpha_{min} = 20 log(\\sqrt{1 + \\epsilon^2 w_p^{2N}})$\n",
    "\n",
    "$\\alpha_{min} = 10 log(1 + \\epsilon^2 w_p^{2N})$\n",
    "\n",
    "$ \\frac{\\alpha_{min}}{10} = log(1 + \\epsilon^2 w_p^{2N})$\n",
    "\n",
    "$ 10^{0.1\\alpha_{min}} = 1 + \\epsilon^2 w_p^{2N}$ \n",
    "\n",
    "$ 10^{0.1\\alpha_{min}} - 1 = \\epsilon^2 w_p^{2N}$\n",
    "\n",
    "Dado que $w_{p} = 1$:\n",
    "\n",
    "$ 10^{0.1\\alpha_{min}} - 1 = \\epsilon^2 $\n",
    "\n",
    "$ \\epsilon = \\sqrt{10^{0.1\\alpha_{min}} - 1} $"
   ]
  },
  {
   "cell_type": "code",
   "execution_count": 2,
   "metadata": {},
   "outputs": [
    {
     "data": {
      "text/plain": [
       "0.7647831015792083"
      ]
     },
     "execution_count": 2,
     "metadata": {},
     "output_type": "execute_result"
    }
   ],
   "source": [
    "import math as m\n",
    "\n",
    "epsilon = m.sqrt(m.pow(10, 0.1 * alpha_min) - 1)\n",
    "epsilon"
   ]
  },
  {
   "cell_type": "markdown",
   "metadata": {},
   "source": [
    "Proseguimos con el cálculo de $N$. De forma similar, utilizaremos la misma expresión pero evaluada en $w_s = 4$. Resulta:\n",
    "\n",
    "$\\alpha_{max} = 20 log(\\sqrt{1 + \\epsilon^2 w_s^{2N}})$\n",
    "\n",
    "$\\alpha_{max} = 10 log(1 + \\epsilon^2 w_s^{2N})$\n",
    "\n",
    "$ \\frac{\\alpha_{max}}{10} = log(1 + \\epsilon^2 w_s^{2N})$\n",
    "\n",
    "$ 10^{0.1\\alpha_{max}} = 1 + \\epsilon^2 w_s^{2N}$ \n",
    "\n",
    "$ 10^{0.1\\alpha_{max}} - 1 = \\epsilon^2 w_s^{2N}$ \n",
    "\n",
    "$ \\frac{10^{0.1\\alpha_{max}} - 1}{\\epsilon^2} = w_s^{2N}$\n",
    "\n",
    "$ \\frac{10^{0.1\\alpha_{max}} - 1}{10^{0.1\\alpha_{min}} - 1} = w_s^{2N}$ \n",
    "\n",
    "$ log(\\frac{10^{0.1\\alpha_{max}} - 1}{10^{0.1\\alpha_{min}} - 1}) = 2N log(w_s)$\n",
    "\n",
    "$ N = \\frac{log(\\frac{10^{0.1\\alpha_{max}} - 1}{10^{0.1\\alpha_{min}} - 1})}{2 log(w_s)}$ "
   ]
  },
  {
   "cell_type": "code",
   "execution_count": 3,
   "metadata": {},
   "outputs": [
    {
     "data": {
      "text/plain": [
       "2.684523941237431"
      ]
     },
     "execution_count": 3,
     "metadata": {},
     "output_type": "execute_result"
    }
   ],
   "source": [
    "N = m.log10((m.pow(10, alpha_max * 0.1) - 1) / (m.pow(10, alpha_min * 0.1) - 1)) / (2 * m.log10(w_s))\n",
    "N"
   ]
  },
  {
   "cell_type": "markdown",
   "metadata": {},
   "source": [
    "Como el orden de un filtro es un número entero, debemos redondear al entero superior el valor de N:"
   ]
  },
  {
   "cell_type": "code",
   "execution_count": 4,
   "metadata": {},
   "outputs": [
    {
     "data": {
      "text/plain": [
       "3"
      ]
     },
     "execution_count": 4,
     "metadata": {},
     "output_type": "execute_result"
    }
   ],
   "source": [
    "N = m.ceil(N)\n",
    "N"
   ]
  },
  {
   "cell_type": "markdown",
   "metadata": {},
   "source": [
    "Así, los valores de $\\epsilon$ y de $N$ fueron calculados. El siguiente paso, es calcular la frecuencia de Butterworth."
   ]
  },
  {
   "cell_type": "markdown",
   "metadata": {},
   "source": [
    "## Cálculo de la frecuencia de Butterworth, $w_B$\n",
    "\n",
    "Como ya vimos en la teoría, esto es simplemente un escalamiento. Sin embargo, resulta bastante conveniente para el tratamiento de polos y ceros del filtro ya que nos permite trabajar con magnitudes mucho más manejables.\n",
    "\n",
    "La frecuencia de Butterworth, $w_B$, es aquella que normaliza el filtro tal que $\\epsilon$ sea 1. En otras palabras:\n",
    "\n",
    "$ \\epsilon^2 \\omega^{2N} = \\Omega^{2N}$\n",
    "\n",
    "$ \\omega = \\frac{\\Omega}{\\sqrt[N]{\\epsilon}}$\n",
    "\n",
    "Definimos entonces la segunda norma de frecuencia $N_{\\Omega_2} = \\frac{1}{\\sqrt[N]{\\epsilon}}$ y su valor es:"
   ]
  },
  {
   "cell_type": "code",
   "execution_count": 5,
   "metadata": {},
   "outputs": [
    {
     "data": {
      "text/plain": [
       "(6283.185307179586, 1.0935044940392533)"
      ]
     },
     "execution_count": 5,
     "metadata": {},
     "output_type": "execute_result"
    }
   ],
   "source": [
    "N_omega_1 = 2 * m.pi * 1e3\n",
    "N_omega_2 = 1 / m.pow(epsilon, 1/N)\n",
    "\n",
    "N_omega_1, N_omega_2"
   ]
  },
  {
   "cell_type": "markdown",
   "metadata": {},
   "source": [
    "Ahora, podemos expresar la transferencia $H$ de la siguiente forma:\n",
    "\n",
    "$|H| = \\frac{1}{\\sqrt{1 + \\Omega^{2N}}}$"
   ]
  },
  {
   "cell_type": "markdown",
   "metadata": {},
   "source": [
    "## Cálculo de los coeficientes del polinomio del filtro\n",
    "\n",
    "Dado que tenemos un filtro de Máxima planicidad, podemos rápidamente calcular los coeficientes debido a que el lugar de raíces es una circunferencia de radio unitario (que debe posteriormente desnormalizarse). Sin embargo, proponemos un método alternativo que servirá para otras funciones de aproximación y se basa en un tema posterior en el curso, parte de función.\n",
    "\n",
    "Dado el módulo cuadrado de la transferencia en $\\Omega$, podemos expresarlo en $s$ sabiendo que $s = j\\Omega$:\n",
    "\n",
    "$|H_{(\\Omega)}|^2 = H_{(\\Omega)} H^*_{(\\Omega)} = H_{(s)} H_{(-s)} |s=j\\Omega$\n",
    "\n",
    "$|H_{(\\Omega)}|^2 = \\frac{1}{1 + \\Omega^6} = H_{(s)} H_{(-s)} |s=j\\Omega$\n",
    "\n",
    "$H_{(s)} H_{(-s)} |s=j\\Omega = \\frac{1}{1 + (\\frac{s}{j})^6} = \\frac{1}{1 - s^6} $\n",
    "\n",
    "Además, sabemos que $2 N = 6$, o sea, que $H_{(s)}$ tiene un denominador cuyo polinomio es de grado 3, y $H_{(-s)}$ también. \n",
    "\n",
    "$H_{(s)} H_{(-s)} = \\frac{1}{(s^3+ as^2 + bs + c)(-s^3+ as^2 - bs + c)}$\n",
    "\n",
    "Note que los términos impares del segundo paréntesis son negativos, esto es producto de ser la representación de $H_{(-s)}$.\n",
    "\n",
    "Podemos así trabajar el denominador para llegar a un expresión como la siguiente:\n",
    "\n",
    "$\\frac{1}{1 - s^6} = \\frac{1}{-s^6 + (a - a)s^5 + (a^2 - 2b)s^4 + (c - ab + ab - c)s^3 + (2ac - b^2)s^2 + (bc - bc)s + c^2}$\n",
    "\n",
    "Podemos entonces igualar término a término de la expresión:\n",
    "\n",
    "| Coeficientes por grado | |\n",
    "|---------|-------|\n",
    "| $1$     | $c^2$ |\n",
    "| $0 s$   | $(bc - bc) s$ |\n",
    "| $0 s^2$ | $(2ac - b^2)s^2$ |\n",
    "| $0 s^3$ | $(c - ab + ab - c)s^3$ |\n",
    "| $0 s^4$ | $(a^2 - 2b)s^4$ |\n",
    "| $0 s^5$ | $(a - a)s^5$ |\n",
    "| $- s^6$ | $-s^6$ |\n",
    "\n",
    "Así, podemos distinguir las siguientes ecuaciones:\n",
    "\n",
    "$1 = c^2$\n",
    "\n",
    "$0 = 2ac - b^2$\n",
    "\n",
    "$0 = a^2 - 2b$\n",
    "\n",
    "Resolviendo:\n",
    "\n",
    "- $a = 2$\n",
    "- $b = 2$\n",
    "- $c = 1$\n",
    "\n",
    "Lo que resulta:\n",
    "\n",
    "$H_{(s)} = \\frac{1}{s^3 + 2s^2 + 2s + 1}$\n",
    "\n",
    "Notar que $s$ responde a $\\Omega$, no $\\omega$."
   ]
  },
  {
   "cell_type": "code",
   "execution_count": 11,
   "metadata": {},
   "outputs": [
    {
     "data": {
      "image/png": "[encoded data removed]",
      "text/plain": [
       "<Figure size 432x288 with 1 Axes>"
      ]
     },
     "metadata": {
      "needs_background": "light"
     },
     "output_type": "display_data"
    },
    {
     "data": {
      "image/png": "[encoded data removed]",
      "text/plain": [
       "<Figure size 432x288 with 1 Axes>"
      ]
     },
     "metadata": {
      "needs_background": "light"
     },
     "output_type": "display_data"
    }
   ],
   "source": [
    "import scipy.signal as signal\n",
    "import splane\n",
    "\n",
    "num = [1]\n",
    "den = [1, 2, 2, 1]\n",
    "filtro = signal.TransferFunction(num, den)\n",
    "\n",
    "splane.bodePlot(filtro)"
   ]
  },
  {
   "cell_type": "markdown",
   "metadata": {},
   "source": [
    "## Cálculo y visualización de los polos\n",
    "\n",
    "Factorizamos el denominador y obtenemos las siguientes raíces:\n",
    "\n",
    "$s_1 = -1$\n",
    "\n",
    "$s_{23} = -\\frac{1}{2} \\pm j \\frac{\\sqrt{3}}{2}$\n",
    "\n",
    "Existen varios métodos para hacer esto, podemos destacar:\n",
    "\n",
    "- Regla de Ruffini\n",
    "- Newton Raphson\n",
    "\n",
    "Y muchos otros más. En Python:"
   ]
  },
  {
   "cell_type": "code",
   "execution_count": 7,
   "metadata": {},
   "outputs": [
    {
     "data": {
      "text/plain": [
       "array([-1. +0.j       , -0.5+0.8660254j, -0.5-0.8660254j])"
      ]
     },
     "execution_count": 7,
     "metadata": {},
     "output_type": "execute_result"
    }
   ],
   "source": [
    "import numpy as np\n",
    "\n",
    "raices = np.roots(den)\n",
    "raices"
   ]
  },
  {
   "cell_type": "markdown",
   "metadata": {},
   "source": [
    "Grafiquemos los polos para ver su ubicación en el plano $s$:"
   ]
  },
  {
   "cell_type": "code",
   "execution_count": 8,
   "metadata": {},
   "outputs": [
    {
     "name": "stdout",
     "output_type": "stream",
     "text": [
      "0 zeros: []\n",
      "3 poles: [-1. +0.j        -0.5+0.8660254j -0.5-0.8660254j]\n",
      "gain: 1.0\n"
     ]
    },
    {
     "data": {
      "image/png": "[encoded data removed]",
      "text/plain": [
       "<Figure size 432x288 with 1 Axes>"
      ]
     },
     "metadata": {
      "needs_background": "light"
     },
     "output_type": "display_data"
    }
   ],
   "source": [
    "splane.pzmap(filtro)"
   ]
  },
  {
   "cell_type": "code",
   "execution_count": 13,
   "metadata": {},
   "outputs": [
    {
     "data": {
      "text/plain": [
       "array([ 1.+0.j, -1.+0.j,  1.+0.j])"
      ]
     },
     "execution_count": 13,
     "metadata": {},
     "output_type": "execute_result"
    }
   ],
   "source": [
    "np.convolve([1, raices[1]], [1, raices[2]]) # Denominador de la estructura de segundo orden "
   ]
  },
  {
   "cell_type": "markdown",
   "metadata": {},
   "source": [
    "## Síntesis del filtro\n",
    "\n",
    "El siguiente paso consta de la síntesis del filtro. Este proceso lo vamos a dividir en dos:\n",
    "\n",
    "- Síntesis del circuito normalizado\n",
    "- Desnormalización de componentes\n",
    "\n",
    "Esto es bastante conveniente, ya que el trabajo con los valores de los componentes y los coeficientes es mucho más simple hacerlo de forma normalizada."
   ]
  },
  {
   "cell_type": "markdown",
   "metadata": {},
   "source": [
    "### Síntesis del circuito normalizado\n",
    "\n",
    "En este caso, optamos por una topología en cascada pasiva. Podemos dividir la función transferencia en estructuras de primero o segundo orden en cascada. Al tener polos complejos conjugados, dichos pares de polos no pueden ser separados en polos simples con componente imaginaria.\n",
    "\n",
    "Así, utilizaremos bloques circuitales con transferencia conocida, como ser:\n",
    "\n",
    "<img src=\"ejemplo_diseno_maxima_planicidad/segundo_orden.png\"> \n",
    "<img src=\"ejemplo_diseno_maxima_planicidad/primer_orden.png\">\n",
    "\n",
    "Cuando el filtro tenga orden superior a dos, utilizaremos amplificadores operacionales para adaptar impedancias entre estructuras (recordar que el amplificador operacional tiene impedancia de entrada infinita y de salida nula).\n",
    "\n",
    "Entonces, analicemos la estructura de segundo orden. La transferencia de la misma queda como ejercicio para el alumno, deberían llegar a la siguiente expresión:\n",
    "\n",
    "$T_{(s)} = \\frac{\\frac{1}{LC}}{s^2 + \\frac{s}{RC} + \\frac{1}{LC}}$\n",
    "\n",
    "Por igualación entre las expresiones:\n",
    "\n",
    "$T_{1_{(s)}} = \\frac{K w^2_0}{s^2 + \\frac{w_0}{Q}s + w^2_0}$\n",
    "\n",
    "Obtenemos:\n",
    "\n",
    "$w^2_0 = \\frac{1}{LC}$\n",
    "\n",
    "$\\frac{w_0}{Q} = \\frac{1}{RC}$\n",
    "\n",
    "$K w^2_0 = \\frac{1}{LC} $\n",
    "\n",
    "Así, vemos que la ganancia $K$ de nuestro circuito es $1$, una limitación de nuestra estructura. Trabajando con las expresiones anteriores:\n",
    "\n",
    "$w_0 = \\frac{1}{\\sqrt{LC}}$\n",
    "\n",
    "$Q = R C w_0$\n",
    "\n",
    "Los coeficientes nuestro filtro de segundo orden eran:\n",
    "\n",
    "$w^2_0 = 1 \\to w_0 = 1 \\to 1 = \\frac{1}{\\sqrt{LC}}$\n",
    "\n",
    "$\\frac{w_0}{Q} = 1 \\to \\frac{1}{R C} = 1 \\to R = \\frac{1}{C}$\n",
    "\n",
    "Al tener dos restricciones y tres grados de libertad, debemos agregar una nueva restricción para poder definir los valores de los parámetros del circuito. Proponemos entonces asignarle de forma arbitraria el valor al capacitor *(elemento común en ambos parámetros $w_0$ y $Q$)* tal que:\n",
    "\n",
    "$C = 1$\n",
    "\n",
    "Así:\n",
    "\n",
    "$L = \\frac{1}{C} = \\frac{1}{1} \\to L = 1$\n",
    "\n",
    "$R = \\frac{1}{1C} \\to R = 1$\n",
    "\n",
    "Terminamos con el circuito pasa bajos. En este caso, la transferencia será:\n",
    "\n",
    "$T_{2_{(s)}} = \\frac{\\frac{1}{RC}}{s + \\frac{1}{RC}} $\n",
    "\n",
    "Que debe ser equivalente a:\n",
    "\n",
    "$T_{2_{(s)}} = \\frac{1}{s + 1} $\n",
    "\n",
    "Nuevamente, las equivalencias son:\n",
    "\n",
    "$\\frac{1}{RC} = 1$\n",
    "\n",
    "Y asignaremos el valor trivial $1$ a ambos componentes.\n",
    "\n",
    "$R = 1$\n",
    "\n",
    "$C = 1$\n",
    "\n",
    "Finalmente el circuito resulta:\n",
    "\n",
    "<img src=\"ejemplo_diseno_maxima_planicidad/normalizado.png\"> "
   ]
  },
  {
   "cell_type": "markdown",
   "metadata": {},
   "source": [
    "## Desnormalización de componentes\n",
    "\n",
    "El proceso de síntesis de la función transferencia requirió dos normas de frecuencia, que a continuación unificamos en una:\n",
    "\n",
    "$N_{\\Omega} = N_{\\Omega_{1}} N_{\\Omega_{2}}$"
   ]
  },
  {
   "cell_type": "code",
   "execution_count": 9,
   "metadata": {},
   "outputs": [
    {
     "data": {
      "text/plain": [
       "6870.691370282283"
      ]
     },
     "execution_count": 9,
     "metadata": {},
     "output_type": "execute_result"
    }
   ],
   "source": [
    "N_omega = N_omega_1 * N_omega_2\n",
    "N_omega"
   ]
  },
  {
   "cell_type": "markdown",
   "metadata": {},
   "source": [
    "Así, convertiremos en frecuencia todos los componentes según las expresiones ya vistas."
   ]
  },
  {
   "cell_type": "code",
   "execution_count": 10,
   "metadata": {},
   "outputs": [
    {
     "name": "stdout",
     "output_type": "stream",
     "text": [
      "C_1: 0.00014554576040561038; L_1: 0.00014554576040561038; R_1: 1\n",
      "C_2: 0.00014554576040561038, R_2: 1\n"
     ]
    }
   ],
   "source": [
    "# Componentes del circuito de segundo orden normalizado\n",
    "C_1_n = 1\n",
    "L_1_n = 1\n",
    "R_1_n = 1\n",
    "\n",
    "# Componentes del segundo orden desnormalizado:\n",
    "C_1 = C_1_n / N_omega\n",
    "L_1 = L_1_n / N_omega\n",
    "R_1 = R_1_n\n",
    "\n",
    "print('C_1: {}; L_1: {}; R_1: {}'.format(C_1, L_1, R_1))\n",
    "\n",
    "# Componentes del circuito de primer orden normalizado\n",
    "C_2_n = 1\n",
    "R_2_n = 1\n",
    "\n",
    "# Componentes del segundo orden desnormalizado:\n",
    "C_2 = C_2_n / N_omega\n",
    "R_2 = R_2_n\n",
    "\n",
    "print('C_2: {}, R_2: {}'.format(C_2, R_2))"
   ]
  },
  {
   "cell_type": "markdown",
   "metadata": {},
   "source": [
    "Resultando en el siguiente [circuito.asc](./ejemplo_diseno_maxima_planicidad/circuito.asc):\n",
    "\n",
    "<img src=\"./ejemplo_diseno_maxima_planicidad/desnormalizado.png\">\n",
    "\n",
    "<img src=\"./ejemplo_diseno_maxima_planicidad/respuesta_f.png\">"
   ]
  },
  {
   "cell_type": "code",
   "execution_count": null,
   "metadata": {},
   "outputs": [],
   "source": []
  }
 ],
 "metadata": {
  "kernelspec": {
   "display_name": "Python 3",
   "language": "python",
   "name": "python3"
  },
  "language_info": {
   "codemirror_mode": {
    "name": "ipython",
    "version": 3
   },
   "file_extension": ".py",
   "mimetype": "text/x-python",
   "name": "python",
   "nbconvert_exporter": "python",
   "pygments_lexer": "ipython3",
   "version": "3.7.4"
  }
 },
 "nbformat": 4,
 "nbformat_minor": 2
}
