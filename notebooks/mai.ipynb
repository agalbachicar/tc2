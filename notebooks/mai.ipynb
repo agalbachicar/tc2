{
 "cells": [
  {
   "cell_type": "markdown",
   "metadata": {},
   "source": [
    "# Matriz Admitancia Indefinida\n",
    "\n",
    "Bibiografía recomendada: Sistemas Electrónicos Analógicos, Un enfoque matricial. Luis Enrique Avendano M. Sc., D. E. A. Capítulo 9."
   ]
  },
  {
   "cell_type": "markdown",
   "metadata": {},
   "source": [
    "## Introducción\n",
    "\n",
    "Sea un multipuerto de N puertos flotantes, es decir, ninguno está conectado a un potencial de referencia como el que se muestra a continuación.\n",
    "\n",
    "<img src='./mai/multipuerto.png' />\n",
    "\n",
    "Será de interés para nuestro estudio puesto que presenta algunas propiedades interesantes y útiles para el análisis de n-polos. Podemos determinar:\n",
    "\n",
    "  1- $\\sum_{i=1}^{N} I_i = 0$\n",
    "  \n",
    "  2- Cada $I_i$ es función lineal de la tensión entre un terminal de referencia y el terminal $i$.\n",
    "  \n",
    "  3- Podemos caracterizar la red mediante:\n",
    "\n",
    "$$\n",
    "\\begin{bmatrix}\n",
    "I_1 \\\\\n",
    "I_2 \\\\\n",
    "... \\\\\n",
    "I_n \\\\\n",
    "\\end{bmatrix} = \\begin{bmatrix}\n",
    "y_{11} & y_{12} & ... & y_{1n} \\\\\n",
    "y_{21} & y_{12} & ... & y_{1n} \\\\\n",
    "... \\\\\n",
    "y_{n1} & y_{n2} & ... & y_{nn} \\\\\n",
    "\\end{bmatrix} \\begin{bmatrix}\n",
    "V_1 \\\\\n",
    "V_2 \\\\\n",
    "... \\\\\n",
    "V_n \\\\\n",
    "\\end{bmatrix} + \\begin{bmatrix}\n",
    "I_{1}^0 \\\\\n",
    "I_{2}^0 \\\\\n",
    "... \\\\\n",
    "I_{n}^0 \\\\\n",
    "\\end{bmatrix}\n",
    "$$\n",
    "\n",
    "Donde $I_i$ son las corrientes entrantes en el nodo $i$, $y_{ij}$ son admitancias que conectan el nodo $i$ con el $j$ dentro del multipolo, $V_i$ son las tensiones de los nodos $i$ respecto a la referencia y las corrientes $I_i^0$ son las corrientes que fluyen por el nodo $i$ cuando todo el resto está conectado a la referencia.\n",
    "\n",
    "Si el vector columna $I^0$ es un vector $[0]$, el multipolo es denominado autoexcitado.\n",
    "\n",
    "A la matriz $[Y]$ se la denomina matriz de admitancia indefinida ya que ninguno de sus puertos están referenciados a masa."
   ]
  },
  {
   "cell_type": "markdown",
   "metadata": {},
   "source": [
    "## Construcción\n",
    "\n",
    "Construyamos la matriz admitancia indifinida con un ejemplo. Para ello, proponemos el siguiente circuito:\n",
    "\n",
    "<img src='./mai/t_puenteado.png' />\n",
    "\n",
    "El anterior circuito está presentado como un cuadripolo, sin embargo, podemos presentarlo como un multipolo para el cual cada nodo (enumerados del 1 al 4) son un terminal de un multipolo de cuatro terminales. La matriz de admitancia indefinida $[Y]$ se construye con las siguientes reglas.\n",
    "\n",
    "- Dada una red de $N$ puertos, la $[Y] \\epsilon ℝ^{NxN}$\n",
    "- Cada elemento de la diagonal principal $y_{ii}$ con $i \\epsilon [1, N]$ se puede expresar como $\\sum_{j=1}^N y_{ij}$. En otras palabras, la suma de todas las admitancias que unen los nodos $j$ tal que $j \\neq i$ con el nodo $i$.\n",
    "- Los elementos $y_{ij}$ tal que $i \\neq j$ serán los valores de las admitancias que unen el nodo $i$ con el nodo $j$ negativos.\n",
    "\n",
    "Analicemos el ejemplo.\n",
    "\n",
    "Para el nodo 1, las admitancias que derivan al mismo son $sC1$ y $G1$ desde el nodo 3 y 2 respectivamente. Por ello el elemento $y_{11} = sC_1 + G_1$, $y_{12} = -G_1$ y $y_{13} = -sC_1$. Como no hay conexión directa entre el nodo 1 y cuatro, ese elemento quedará en cero, $y_{14} = 0$. Si seguimos con los demás nodos podemos obtener la matriz $[Y]$ tal que:\n",
    "\n",
    "$$\n",
    "[Y] = \\begin{bmatrix}\n",
    "  sC_1 + G_1 & -G_1 & -sC_1 & 0 \\\\\n",
    "  -G_1 & G_1 + G_2 + sC_2 & -G_2 & -sC_2 \\\\\n",
    "  -sC_1 & -G_2 & sC_1 + G_2 & 0 \\\\\n",
    "  0 & -sC_2 & 0 & sC_2 \\\\\n",
    "\\end{bmatrix}\n",
    "$$"
   ]
  },
  {
   "cell_type": "markdown",
   "metadata": {},
   "source": [
    "## Propiedades\n",
    "\n",
    "  - La sumatoria de filas es igual a cero. $\\sum_{j = 1}^N y_{ij} = 0$ para $i \\epsilon [1, N]$.\n",
    "  - La sumatoria de columnas es igual a cero. $\\sum_{i = 1}^N y_{ij} = 0$ para $j \\epsilon [1, N]$.\n",
    "  - El determinante de la matriz es igual a cero. $\\Delta Y = 0$.\n",
    "  - Todos los cofactores de primer orden son iguales, es decir: $Y_{j}^i = Y_{n}^n$ con $i,j \\epsilon [1,N]$.\n",
    "  - Aplica el principio de superposición. Si un multipuerto $[Y_A]$ de $N$ polos se conecta en paralelo con otro $[Y_B]$ de $N$ puertos, se puede generar un multipuerto equivalente de $[Y_C] = [Y_A] + [Y_B]$.\n"
   ]
  },
  {
   "cell_type": "markdown",
   "metadata": {},
   "source": [
    "## Funciones de red\n",
    "\n",
    "Podemos computar de forma sistemática algunas funciones de red la matriz de admitancia indefinida. A continuación ejemplificaremos con el circuito anterior.\n",
    "\n",
    "### Cofactores\n",
    "\n",
    "#### Primer cofactor\n",
    "\n",
    "$\\underline{Y}_{j}^i = (-1)^{i+j} \\Delta Y_{j}^i$\n",
    "\n",
    "Donde $\\Delta Y_{j}^i$ es el determinante de la matriz cuya fila $j$ y columna $i$ fueron suprimidas.\n",
    "\n",
    "#### Segundo cofactor\n",
    "\n",
    "$\\underline{Y}_{ij}^{mn} = (-1)^{i+j+m+n} \\Delta Y_{mn}^{ij}$\n",
    "\n",
    "Donde $\\Delta Y_{ij}^{mn}$ es el determinante de la matriz cuyas filas $m$ y $n$ y columnas $i$ y $j$ fueron suprimidas.\n",
    "\n",
    "### Impendacia de transferencia (o de excitación)\n",
    "\n",
    "$$\n",
    "Z_{mn}^{ij} = \\frac{V_{ij}}{I_{mn}} = sgn(i-j)sgn(m-n)\\frac{\\underline{Y}_{mn}^{ij}}{\\underline{Y}_{n}^n}\n",
    "$$\n",
    "\n",
    "### Transferencia de tensión\n",
    "\n",
    "$$\n",
    "V_{mn}^{ij} = \\frac{V_{ij}}{V_{mn}} = sgn(i-j)sgn(m-n)\\frac{\\underline{Y}_{mn}^{ij}}{\\underline{Y}_{mn}^{mn}}\n",
    "$$\n",
    "\n"
   ]
  }
 ],
 "metadata": {
  "kernelspec": {
   "display_name": "Python 3",
   "language": "python",
   "name": "python3"
  },
  "language_info": {
   "codemirror_mode": {
    "name": "ipython",
    "version": 3
   },
   "file_extension": ".py",
   "mimetype": "text/x-python",
   "name": "python",
   "nbconvert_exporter": "python",
   "pygments_lexer": "ipython3",
   "version": "3.7.4"
  }
 },
 "nbformat": 4,
 "nbformat_minor": 2
}
