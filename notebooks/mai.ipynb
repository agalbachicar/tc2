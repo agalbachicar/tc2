{
 "cells": [
  {
   "cell_type": "markdown",
   "metadata": {},
   "source": [
    "# Matriz Admitancia Indefinida\n",
    "\n",
    "Bibiografía recomendada: Sistemas Electrónicos Analógicos, Un enfoque matricial. Luis Enrique Avendano M. Sc., D. E. A. Capítulo 9."
   ]
  },
  {
   "cell_type": "markdown",
   "metadata": {},
   "source": [
    "## Introducción\n",
    "\n",
    "Sea un multipuerto de N puertos flotantes, es decir, ninguno está conectado a un potencial de referencia como el que se muestra a continuación.\n",
    "\n",
    "<img src='./mai/multipuerto.png' />\n",
    "\n",
    "Será de interés para nuestro estudio puesto que presenta algunas propiedades interesantes y útiles para el análisis de n-polos. Podemos determinar:\n",
    "\n",
    "  1- $\\sum_{i=1}^{N} I_i = 0$\n",
    "  \n",
    "  2- Cada $I_i$ es función lineal de la tensión entre un terminal de referencia y el terminal $i$.\n",
    "  \n",
    "  3- Podemos caracterizar la red mediante:\n",
    "\n",
    "$$\n",
    "\\begin{bmatrix}\n",
    "I_1 \\\\\n",
    "I_2 \\\\\n",
    "... \\\\\n",
    "I_n \\\\\n",
    "\\end{bmatrix} = \\begin{bmatrix}\n",
    "y_{11} & y_{12} & ... & y_{1n} \\\\\n",
    "y_{21} & y_{12} & ... & y_{1n} \\\\\n",
    "... \\\\\n",
    "y_{n1} & y_{n2} & ... & y_{nn} \\\\\n",
    "\\end{bmatrix} \\begin{bmatrix}\n",
    "V_1 \\\\\n",
    "V_2 \\\\\n",
    "... \\\\\n",
    "V_n \\\\\n",
    "\\end{bmatrix} + \\begin{bmatrix}\n",
    "I_{1}^0 \\\\\n",
    "I_{2}^0 \\\\\n",
    "... \\\\\n",
    "I_{n}^0 \\\\\n",
    "\\end{bmatrix}\n",
    "$$\n",
    "\n",
    "Donde $I_i$ son las corrientes entrantes en el nodo $i$, $y_{ij}$ son admitancias que conectan el nodo $i$ con el $j$ dentro del multipolo, $V_i$ son las tensiones de los nodos $i$ respecto a la referencia y las corrientes $I_i^0$ son las corrientes que fluyen por el nodo $i$ cuando todo el resto está conectado a la referencia.\n",
    "\n",
    "Si el vector columna $I^0$ es un vector $[0]$, el multipolo es denominado autoexcitado.\n",
    "\n",
    "A la matriz $[Y]$ se la denomina matriz de admitancia indefinida ya que ninguno de sus puertos están referenciados a masa."
   ]
  },
  {
   "cell_type": "markdown",
   "metadata": {},
   "source": [
    "## Construcción\n",
    "\n",
    "Construyamos la matriz admitancia indifinida con un ejemplo. Para ello, proponemos el siguiente circuito:\n",
    "\n",
    "<img src='./mai/t_puenteado.png' />\n",
    "\n",
    "El anterior circuito está presentado como un cuadripolo, sin embargo, podemos presentarlo como un multipolo para el cual cada nodo (enumerados del 1 al 4) son un terminal de un multipolo de cuatro terminales. La matriz de admitancia indefinida $[Y]$ se construye con las siguientes reglas.\n",
    "\n",
    "- Dada una red de $N$ puertos, la $[Y] \\epsilon ℝ^{NxN}$\n",
    "- Cada elemento de la diagonal principal $y_{ii}$ con $i \\epsilon [1, N]$ se puede expresar como $\\sum_{j=1}^N y_{ij}$. En otras palabras, la suma de todas las admitancias que unen los nodos $j$ tal que $j \\neq i$ con el nodo $i$.\n",
    "- Los elementos $y_{ij}$ tal que $i \\neq j$ serán los valores de las admitancias que unen el nodo $i$ con el nodo $j$ negativos.\n",
    "\n",
    "Analicemos el ejemplo.\n",
    "\n",
    "Para el nodo 1, las admitancias que derivan al mismo son $sC1$ y $G1$ desde el nodo 3 y 2 respectivamente. Por ello el elemento $y_{11} = sC_1 + G_1$, $y_{12} = -G_1$ y $y_{13} = -sC_1$. Como no hay conexión directa entre el nodo 1 y cuatro, ese elemento quedará en cero, $y_{14} = 0$. Si seguimos con los demás nodos podemos obtener la matriz $[Y]$ tal que:\n",
    "\n",
    "$$\n",
    "[Y] = \\begin{bmatrix}\n",
    "  sC_1 + G_1 & -G_1 & -sC_1 & 0 \\\\\n",
    "  -G_1 & G_1 + G_2 + sC_2 & -G_2 & -sC_2 \\\\\n",
    "  -sC_1 & -G_2 & sC_1 + G_2 & 0 \\\\\n",
    "  0 & -sC_2 & 0 & sC_2 \\\\\n",
    "\\end{bmatrix}\n",
    "$$"
   ]
  },
  {
   "cell_type": "markdown",
   "metadata": {},
   "source": [
    "## Propiedades\n",
    "\n",
    "  - La sumatoria de filas es igual a cero. $\\sum_{j = 1}^N y_{ij} = 0$ para $i \\epsilon [1, N]$.\n",
    "  - La sumatoria de columnas es igual a cero. $\\sum_{i = 1}^N y_{ij} = 0$ para $j \\epsilon [1, N]$.\n",
    "  - El determinante de la matriz es igual a cero. $\\Delta Y = 0$.\n",
    "  - Todos los cofactores de primer orden son iguales, es decir: $Y_{j}^i = Y_{n}^n$ con $i,j \\epsilon [1,N]$.\n",
    "  - Aplica el principio de superposición. Si un multipuerto $[Y_A]$ de $N$ polos se conecta en paralelo con otro $[Y_B]$ de $N$ puertos, se puede generar un multipuerto equivalente de $[Y_C] = [Y_A] + [Y_B]$.\n"
   ]
  },
  {
   "cell_type": "markdown",
   "metadata": {},
   "source": [
    "## Funciones de red\n",
    "\n",
    "Podemos computar de forma sistemática algunas funciones de red la matriz de admitancia indefinida. A continuación ejemplificaremos con el circuito anterior.\n",
    "\n",
    "### Cofactores\n",
    "\n",
    "#### Primer cofactor\n",
    "\n",
    "$\\underline{Y}_{j}^i = (-1)^{i+j} \\Delta Y_{j}^i$\n",
    "\n",
    "Donde $\\Delta Y_{j}^i$ es el determinante de la matriz cuya fila $j$ y columna $i$ fueron suprimidas.\n",
    "\n",
    "#### Segundo cofactor\n",
    "\n",
    "$\\underline{Y}_{ij}^{mn} = (-1)^{i+j+m+n} \\Delta Y_{mn}^{ij}$\n",
    "\n",
    "Donde $\\Delta Y_{ij}^{mn}$ es el determinante de la matriz cuyas filas $m$ y $n$ y columnas $i$ y $j$ fueron suprimidas.\n",
    "\n",
    "### Impendacia de transferencia (o de excitación)\n",
    "\n",
    "$$\n",
    "Z_{mn}^{ij} = \\frac{V_{ij}}{I_{mn}} = sgn(i-j)sgn(m-n)\\frac{\\underline{Y}_{mn}^{ij}}{\\underline{Y}_{n}^n}\n",
    "$$\n",
    "\n",
    "### Transferencia de tensión\n",
    "\n",
    "$$\n",
    "V_{mn}^{ij} = \\frac{V_{ij}}{V_{mn}} = sgn(i-j)sgn(m-n)\\frac{\\underline{Y}_{mn}^{ij}}{\\underline{Y}_{mn}^{mn}}\n",
    "$$\n",
    "\n"
   ]
  },
  {
   "cell_type": "markdown",
   "metadata": {},
   "source": [
    "## Ejemplos\n",
    "\n",
    "### Transferencia de tensión\n",
    "\n",
    "Tomando como base el circuito anterior, computaremos la transferencia de tensión del circuito T-puenteado anterior.\n",
    "\n",
    "$ V_{14}^{34} = sig(3-4)sig(1-4) \\frac{\\underline{Y}_{14}^{34}}{\\underline{Y}_{14}^{14}} $\n",
    "\n",
    "$\\underline{Y}_{14}^{34} = \\begin{vmatrix}\n",
    "  -Y_1 & Y_1 + Y_2 + Y_3\\\\\n",
    "  -Y_4 & -Y_2\\\\\n",
    "\\end{vmatrix} = Y_1 Y_2 + Y_1 Y_4 + Y_2 Y_4 + Y_3 Y_4 $\n",
    "\n",
    "$\\underline{Y}_{14}^{14} = \\begin{vmatrix}\n",
    "  Y_1 + Y_2 + Y_3 & -Y_2\\\\\n",
    "  -Y_2 & Y_2 + Y_4\\\\\n",
    "\\end{vmatrix} = Y_1 Y_2 + Y_1 Y_4 + Y_2 Y_3 + Y_4 Y_4 + Y_2 Y_4 $\n",
    "\n",
    "$ V_{14}^{34} = \\frac{Y_1 Y_2 + Y_1 Y_4 + Y_2 Y_4 + Y_3 Y_4}{Y_1 Y_2 + Y_1 Y_4 + Y_2 Y_3 + Y_4 Y_4 + Y_2 Y_4}$\n",
    "\n",
    "$ V_{14}^{34} = \\frac{G_1 G_2 + sG_1 C_1 + s G_2 C_1 + s^2 C_1 C_2}{G_1 G_2 + s G_1 C_1 s G_2 C_2 + s^2 C_1 C_2 + s G_2 C_1} $\n",
    "\n",
    "$ V_{14}^{34} = \\frac{s^2 + s \\frac{G_1 + G_2}{C_2} + \\frac{G_1 G_2}{C_1 C_2}}{s^2 + s \\left( \\frac{G_1 + G_2}{C_2} + \\frac{G_2}{C_1} \\right) + \\frac{G_1 G_2}{C_1 C_2}} $\n",
    "\n",
    "Evaluemos algunos valores simples para demostrar la validez del método:\n",
    "\n",
    "- $G_1 = G_2 = G = 1$\n",
    "- $C_1 = C_2 = C = 1$\n",
    "\n",
    "$ V_{14}^{34} = \\frac{s^2 + 2s + 1}{s^2 + 3s + 1} $\n"
   ]
  },
  {
   "cell_type": "code",
   "execution_count": 1,
   "metadata": {},
   "outputs": [],
   "source": [
    "import scipy.signal as sig\n",
    "import matplotlib.pyplot as plt\n",
    "from splane import pzmap, bodePlot\n",
    "\n",
    "G1, G2 = 1, 1\n",
    "C1, C2 = 1, 1\n",
    "\n",
    "t_puenteado = sig.TransferFunction([1, (G1+G2)/C2, G1 * G2 / (C1 * C2)], [1, (G1+G2)/C2 + G2/C1, G1 * G2 / (C1 * C2)])"
   ]
  },
  {
   "cell_type": "code",
   "execution_count": 2,
   "metadata": {},
   "outputs": [
    {
     "name": "stdout",
     "output_type": "stream",
     "text": [
      "TransferFunctionContinuous(\n",
      "array([1., 2., 1.]),\n",
      "array([1., 3., 1.]),\n",
      "dt: None\n",
      ")\n",
      "Polos: [-2.61803399 -0.38196601]\n",
      "Ceros: [-1. -1.]\n"
     ]
    }
   ],
   "source": [
    "print(t_puenteado)\n",
    "print('Polos:',t_puenteado.poles)\n",
    "print('Ceros:',t_puenteado.zeros)"
   ]
  },
  {
   "cell_type": "code",
   "execution_count": 3,
   "metadata": {},
   "outputs": [
    {
     "data": {
      "image/png": "[encoded data removed]",
      "text/plain": [
       "<Figure size 432x288 with 1 Axes>"
      ]
     },
     "metadata": {
      "needs_background": "light"
     },
     "output_type": "display_data"
    },
    {
     "data": {
      "image/png": "[encoded data removed]",
      "text/plain": [
       "<Figure size 432x288 with 1 Axes>"
      ]
     },
     "metadata": {
      "needs_background": "light"
     },
     "output_type": "display_data"
    }
   ],
   "source": [
    "bodePlot(t_puenteado)"
   ]
  },
  {
   "cell_type": "markdown",
   "metadata": {},
   "source": [
    "Comparemos entonces con el circuito (ver 'mai/t_puenteado.asc') simulado en LTSpice:\n",
    "\n",
    "<img src='./mai/simulacion_v.png' />"
   ]
  },
  {
   "cell_type": "markdown",
   "metadata": {},
   "source": [
    "## Ejercicio\n",
    "\n",
    "Resolver la impedancia de entrada $ Z_{14}^{14} = sig(1-4)sig(1-4) \\frac{\\underline{Y}_{14}^{14}}{\\underline{Y}_{4}^{4}}$ del circuito T-puenteado.\n",
    "\n",
    "**Ayuda:** note que el cofactor $\\underline{Y}_{14}^{14}$ ya esta resuelto."
   ]
  },
  {
   "cell_type": "markdown",
   "metadata": {},
   "source": [
    "## Nota de aplicación sobre transistores (y otros tripolos)\n",
    "\n",
    "Un transistor es un tripolo (tres polos) que puede ser utilizado en distintas configuraciones. El empleo de MAI para el análisis de sus parámetros es ventajoso tanto para el fabricante como para quien utiliza el dispositivo. Se puede, a partir de una matriz definida de parámetros admitancia extrapolar a una matriz de parámetros indefinida que nos permite caracterizar con un modelo de admitancias las características del dispositivo para distintos valores de polarización y en entornos relativamente pequeños de frecuencia. Nótese que el dispositivo es **alineal** y el método es **lineal**.\n",
    "\n",
    "Pensemos entonces un transistor bipolar NPN como el de la figura a continuación.\n",
    "\n",
    "<img src='./mai/tbj_npn.png' />\n",
    "\n",
    "Donde tenemos asociados los tres puertos con un número. Supiendo que disponemos de los parámetros en emisor común, normalmente provistos por el fabricante, el cuadripolo (matriz admitancia **definida**) responde a la siguiente configuración:\n",
    "\n",
    "<img src='./mai/tbj_npn_emisor_comun.png' />\n",
    "\n",
    "Cuyos parámetros son:\n",
    "\n",
    "$$\n",
    "[Y_{TBJ_{EC}}] = \\begin{bmatrix}\n",
    "  y_{11} & y_{12} \\\\\n",
    "  y_{21} & y_{22} \\\\\n",
    "\\end{bmatrix}\n",
    "$$\n",
    "\n",
    "Que responde a la matrix admitancia indefinida:\n",
    "\n",
    "$$\n",
    "[Y_{TBJ}] = \\begin{bmatrix}\n",
    "  y_{11} & y_{12} & y_{13} \\\\\n",
    "  y_{21} & y_{22} & y_{23} \\\\\n",
    "  y_{31} & y_{32} & y_{33} \\\\\n",
    "\\end{bmatrix}\n",
    "$$\n",
    "\n",
    "Los valores que componen $[Y_{TBJ_{EC}}]$ pueden ser obtenidos de la hoja de datos del componente. Puede que los mismos sean provistos en otro juego de parámetros, por ejemplo H o G. Mediante conversión de parámetros podemos obtener los Y equivalentes para tal configuración. Para calcular los componentes de la columna y fila 3, utilizaremos las propiedades de la matriz admitancia:\n",
    "\n",
    "- $y_{13} = - y_{11} - y_{12}$\n",
    "- $y_{23} = - y_{21} - y_{22}$\n",
    "- $y_{31} = - y_{11} - y_{21}$\n",
    "- $y_{32} = - y_{12} - y_{22}$\n",
    "- $y_{33} = y_{11} + y_{21} + y_{12} + y_{22}$\n",
    "\n",
    "Esto permite completar la matriz admitancia indefinida del dispositivo y luego obtener la matriz definida apropiada para la configuración pertinente. A modo de ejemplo, en caso de querer utilizar la configuración en colector común, debemos suprimir la fila y columna 2 que corresponden al colector:\n",
    "\n",
    "<img src='./mai/tbj_npn_colector_comun.png' />\n",
    "\n",
    "$$\n",
    "[Y_{TBJ_{CC}}] = \\begin{bmatrix}\n",
    "  y_{11} & y_{13} \\\\\n",
    "  y_{31} & y_{33} \\\\\n",
    "\\end{bmatrix}\n",
    "$$\n"
   ]
  },
  {
   "cell_type": "code",
   "execution_count": null,
   "metadata": {},
   "outputs": [],
   "source": []
  }
 ],
 "metadata": {
  "kernelspec": {
   "display_name": "Python 3",
   "language": "python",
   "name": "python3"
  },
  "language_info": {
   "codemirror_mode": {
    "name": "ipython",
    "version": 3
   },
   "file_extension": ".py",
   "mimetype": "text/x-python",
   "name": "python",
   "nbconvert_exporter": "python",
   "pygments_lexer": "ipython3",
   "version": "3.7.4"
  }
 },
 "nbformat": 4,
 "nbformat_minor": 2
}
