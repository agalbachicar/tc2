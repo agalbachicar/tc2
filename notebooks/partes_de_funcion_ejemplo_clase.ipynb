{
 "cells": [
  {
   "cell_type": "markdown",
   "metadata": {
    "slideshow": {
     "slide_type": "slide"
    }
   },
   "source": [
    "# Ejemplo Partes de Función"
   ]
  },
  {
   "cell_type": "markdown",
   "metadata": {
    "slideshow": {
     "slide_type": "subslide"
    }
   },
   "source": [
    "## Motivación enunciado:\n",
    "\n",
    "![circuito motivacion](partes_de_funcion_ejemplo_clase/circuito_motivacion.png)"
   ]
  },
  {
   "cell_type": "markdown",
   "metadata": {
    "slideshow": {
     "slide_type": "subslide"
    }
   },
   "source": [
    "$|V_I(jw)|^2*G_I(jw) = |V_O(jw)|^2*G_L$\n",
    "\n",
    "$G_{I}(jw) = |H(jw)|^2$\n",
    "\n",
    "Con $G_L = 1$.\n",
    "\n",
    "$|H(jw)|^2 = \\frac{1}{81} \\frac{(9-w^2)^2}{1 + w^6}$ --polos Butterworth con cero de transmisión en $\\omega=3$--\n",
    "\n",
    "$G_{I}(jw) = Real(Y(jw)) = \\frac{1}{81} \\frac{w^4 - 18 w^2 + 81}{1 + w^6}$"
   ]
  },
  {
   "cell_type": "markdown",
   "metadata": {
    "slideshow": {
     "slide_type": "subslide"
    }
   },
   "source": [
    "## Enunciado\n",
    "\n",
    "Se dispone de una impedancia cuya parte real es:\n",
    "\n",
    "$Real(Y(jw)) = \\frac{1}{81} \\frac{w^4 - 18 w^2 + 81}{1 + w^6}$\n",
    "\n",
    "Encuentre la admitancia $Y(s)$.\n"
   ]
  },
  {
   "cell_type": "markdown",
   "metadata": {
    "slideshow": {
     "slide_type": "slide"
    }
   },
   "source": [
    "## ¿Cómo se relaciona Y(s) con su parte real en el eje de las $\\omega$?"
   ]
  },
  {
   "cell_type": "markdown",
   "metadata": {
    "slideshow": {
     "slide_type": "subslide"
    }
   },
   "source": [
    "$Y(s) = Par(Y(s)) + Impar(Y(s))$\n",
    "\n",
    "$Y(s) = M(s) + N(s)$\n",
    "\n",
    "$M(jw) = Real(Y(jw))$\n",
    "\n",
    "En este ejemplo:\n",
    "\n",
    "$M(s) = \\frac{1}{81} \\frac{s^4 + 18 s^2 + 81}{1-s^6}$"
   ]
  },
  {
   "cell_type": "markdown",
   "metadata": {
    "slideshow": {
     "slide_type": "subslide"
    }
   },
   "source": [
    "Obtenemos $M(s)$ en terminos $Y(s)$:\n",
    "\n",
    "$Y(s) + Y(-s) = M(s) + N(s) + M(s) - N(s)$\n",
    "\n",
    "$Y(s) + Y(-s) = 2 * M(s)$\n",
    "\n",
    "$M(s) = \\frac{Y(s) + Y(-s)}{2}$\n",
    "\n",
    "Relacionamos las singularidades:\n",
    "\n",
    "$Y(s) = \\frac{A(s)}{B(s)}$\n",
    "\n",
    "$M(s) = \\frac{A(s)*B(-s) + A(-s)*B(s)}{2*B(s)B(-s)}$"
   ]
  },
  {
   "cell_type": "markdown",
   "metadata": {
    "slideshow": {
     "slide_type": "slide"
    }
   },
   "source": [
    "## ¿A qué conclución nos lleva $M(s) = \\frac{A(s)*B(-s) + A(-s)*B(s)}{2*B(s)B(-s)}$?"
   ]
  },
  {
   "cell_type": "markdown",
   "metadata": {
    "slideshow": {
     "slide_type": "subslide"
    }
   },
   "source": [
    "* Los polos de $M(s)$ son o bien polos de $Y(s)$ o de $Y(-s)$."
   ]
  },
  {
   "cell_type": "markdown",
   "metadata": {
    "slideshow": {
     "slide_type": "slide"
    }
   },
   "source": [
    "## Cálculo de los polos de $Y(s)$"
   ]
  },
  {
   "cell_type": "code",
   "execution_count": 2,
   "metadata": {
    "slideshow": {
     "slide_type": "subslide"
    }
   },
   "outputs": [
    {
     "name": "stdout",
     "output_type": "stream",
     "text": [
      "Polos de M(s): [-1. +0.j        -0.5+0.8660254j -0.5-0.8660254j  0.5+0.8660254j\n",
      "  0.5-0.8660254j  1. +0.j       ]\n"
     ]
    }
   ],
   "source": [
    "import numpy as np\n",
    "\n",
    "den = [-1, 0, 0, 0, 0, 0, 1]\n",
    "roots = np.roots(den)\n",
    "print(f\"Polos de M(s): {roots}\")"
   ]
  },
  {
   "cell_type": "markdown",
   "metadata": {
    "slideshow": {
     "slide_type": "subslide"
    }
   },
   "source": [
    "Por lo tanto, $Y(s)$ sera de la forma:\n",
    "\n",
    "$Y(s) = \\frac{A(s)}{s^3 + 2*s^2 + 2*s + 1}$"
   ]
  },
  {
   "cell_type": "markdown",
   "metadata": {
    "slideshow": {
     "slide_type": "slide"
    }
   },
   "source": [
    "## ¿De qué grado puede ser el polinomio $A(s)$?\n",
    "\n",
    "$Y(s) = \\frac{A(s)}{s^3 + 2s^2 + 2s + 1}$\n",
    "\n",
    "$M(s) = \\frac{1}{81} \\frac{s^4 + 18 s^2 + 81}{1 - s^6}$"
   ]
  },
  {
   "cell_type": "markdown",
   "metadata": {
    "slideshow": {
     "slide_type": "subslide"
    }
   },
   "source": [
    "* El grado del numerador y denominador de $Y(s)$ pueden difererir a lo sumo en 1 (i.e. la diferencia puede ser +1, -1, 0).\n",
    "* $A(s)$ debe ser por lo menos de segundo grado!!"
   ]
  },
  {
   "cell_type": "markdown",
   "metadata": {
    "slideshow": {
     "slide_type": "slide"
    }
   },
   "source": [
    "## Obtención de $A(s)$"
   ]
  },
  {
   "cell_type": "markdown",
   "metadata": {
    "slideshow": {
     "slide_type": "subslide"
    }
   },
   "source": [
    "$M(s) = \\frac{1}{81} \\frac{s^4 + 18 s^2 + 81}{1 - s^6}$\n",
    "\n",
    "$M(s) = \\frac{A(-s)*B(s) + A(s)*B(-s)}{2*B(s)*B(-s)}$\n",
    "\n",
    "$A(-s)*B(s) + A(s)*B(-s) = (m_1(s)-n_1(s))*(m_2(s)+n_2(s)) + (m_1(s)+n_1(s))*(m_2(s)-n_2(s))$\n",
    "\n",
    "$A(-s)*B(s) + A(s)*B(-s) = 2 * (m_1(s)*m_2(s) - n_1(s)*n_2(s))$\n",
    "\n",
    "$m_1(s)*m_2(s) - n_1(s)*n_2(s) = s^4 + 18 s^2 + 81$"
   ]
  },
  {
   "cell_type": "markdown",
   "metadata": {
    "slideshow": {
     "slide_type": "subslide"
    }
   },
   "source": [
    "$(a_2*s^2 + a_0) * (2*s^2 + 1) - a_1 * s * (s^3 + 2*s) = (s^4 + 18 * s^2 + 81) / 81$\n",
    "\n",
    "---\n",
    "\n",
    "$(2 * a_2 - a_1) * s^4  + (a_2 - 2 * a_1 + 2 * a_0) * s^2 + a_0 = (s^4 + 18 * s^2 + 81) / 81$\n",
    "\n",
    "---\n",
    "\n",
    "Nos queda:\n",
    "\n",
    "$a_0 = 1$\n",
    "\n",
    "$2 * a_2 - a_1 = \\frac{1}{81}$\n",
    "\n",
    "$a_2 - 2 * a_1 + 2 * a_0 = \\frac{18}{81}$"
   ]
  },
  {
   "cell_type": "markdown",
   "metadata": {
    "slideshow": {
     "slide_type": "subslide"
    }
   },
   "source": [
    "Resolviendo:\n",
    "\n",
    "$a_0 = 1$\n",
    "\n",
    "$a_1 = \\frac{578}{486} = 1.1893$\n",
    "\n",
    "$a_2 = \\frac{146}{243} = 0.6008$"
   ]
  },
  {
   "cell_type": "markdown",
   "metadata": {
    "slideshow": {
     "slide_type": "slide"
    }
   },
   "source": [
    "## Obtuvimos $Y(s)$!!!\n",
    "\n",
    "$Y(s) = \\frac{1}{81} \\frac{146/3 * s^2 + 578/6 * s + 81}{s^3 + 2s^2 + 2s + 1}$"
   ]
  },
  {
   "cell_type": "code",
   "execution_count": 3,
   "metadata": {
    "slideshow": {
     "slide_type": "subslide"
    }
   },
   "outputs": [
    {
     "data": {
      "image/png": "[encoded data removed]",
      "text/plain": [
       "<Figure size 432x288 with 1 Axes>"
      ]
     },
     "metadata": {
      "needs_background": "light"
     },
     "output_type": "display_data"
    }
   ],
   "source": [
    "import matplotlib.pyplot as plt\n",
    "\n",
    "w = np.logspace(-2, 2)\n",
    "g_enunciado = (w ** 4 - 18 * (w ** 2) + 81) / (1 + w ** 6) / 81\n",
    "y_obtenida = (-146/3 * (w ** 2) + 1j * 578/6 * w + 81)/(-1j * (w ** 3) - 2 * (w ** 2) + 2j * w + 1) / 81\n",
    "g_obtenida = y_obtenida.real\n",
    "\n",
    "# Ploteo\n",
    "fig, ax = plt.subplots()\n",
    "ax.ticklabel_format(useOffset=False)\n",
    "ax.set_ylabel('Siemens')\n",
    "ax.set_xlabel('w')\n",
    "ax.set_title('G(jw) enunciado')\n",
    "ax.grid(True)\n",
    "ax.semilogx(w, g_enunciado)\n",
    "\n",
    "plt.show()"
   ]
  },
  {
   "cell_type": "code",
   "execution_count": 4,
   "metadata": {
    "slideshow": {
     "slide_type": "subslide"
    }
   },
   "outputs": [
    {
     "data": {
      "image/png": "[encoded data removed]",
      "text/plain": [
       "<Figure size 432x288 with 1 Axes>"
      ]
     },
     "metadata": {
      "needs_background": "light"
     },
     "output_type": "display_data"
    }
   ],
   "source": [
    "fig, ax = plt.subplots()\n",
    "ax.ticklabel_format(useOffset=False)\n",
    "ax.set_ylabel('Siemens')\n",
    "ax.set_xlabel('w')\n",
    "ax.set_title('G(jw) obtenida')\n",
    "ax.grid(True)\n",
    "ax.semilogx(w, g_obtenida)\n",
    "\n",
    "plt.show()"
   ]
  },
  {
   "cell_type": "markdown",
   "metadata": {
    "slideshow": {
     "slide_type": "slide"
    }
   },
   "source": [
    "## Posible Implementación"
   ]
  },
  {
   "cell_type": "markdown",
   "metadata": {
    "slideshow": {
     "slide_type": "subslide"
    }
   },
   "source": [
    "![posible implementación](partes_de_funcion_ejemplo_clase/posible_sintesis.png)"
   ]
  },
  {
   "cell_type": "markdown",
   "metadata": {
    "slideshow": {
     "slide_type": "slide"
    }
   },
   "source": [
    "# Obtención de $F(s)$ a partir de otras partes de función"
   ]
  },
  {
   "cell_type": "markdown",
   "metadata": {
    "slideshow": {
     "slide_type": "subslide"
    }
   },
   "source": [
    "* A partir de $|F(s)|^2$\n",
    "  * Ya utilizamos este método en teoría moderna de filtros (ej.: Butter, Cheby).\n",
    "\n",
    "* A partir de $Imag(F(s))$\n",
    "  * Idem al método recién visto.\n",
    "\n",
    "* A partir de $\\phi(jw)$\n",
    "  * Útil en diseño de desfasadores.\n",
    "\n",
    "* A partir de $\\tau(s)$\n",
    "  * Útil cuando se quiere diseñar filtros con ciertas características de retardo."
   ]
  },
  {
   "cell_type": "markdown",
   "metadata": {
    "slideshow": {
     "slide_type": "slide"
    }
   },
   "source": [
    "## A partir de $\\phi(j\\omega) = ang(F(j\\omega))$\n",
    "\n",
    "$F(j\\omega) = |F(j\\omega)|*e^{j*\\phi(j\\omega)}$"
   ]
  },
  {
   "cell_type": "markdown",
   "metadata": {
    "slideshow": {
     "slide_type": "subslide"
    }
   },
   "source": [
    "$\\frac{F(j\\omega)}{F(-j\\omega)} = e^{2j*\\phi(j\\omega)}$\n",
    "\n",
    "$\\frac{F(j\\omega)}{F(-j\\omega)} = \\frac{e^{j*\\phi(j\\omega)}}{e^{-j*\\phi(j\\omega)}}$\n",
    "\n",
    "$\\frac{F(j\\omega)}{F(-j\\omega)} = \\frac{cos(\\phi(j\\omega))+j*sin(\\phi(j\\omega)}{cos(\\phi(j\\omega))-j*sin(\\phi(j\\omega)}$\n",
    "\n",
    "$\\frac{F(j\\omega)}{F(-j\\omega)} = \\frac{1+j*tg(\\phi(j\\omega))}{1-j*tg(\\phi(j\\omega))}$\n",
    "\n",
    "$\\frac{F(s)}{F(-s)} = \\frac{A(s)*B(-s)}{A(-s)*B(s)}$"
   ]
  },
  {
   "cell_type": "markdown",
   "metadata": {
    "slideshow": {
     "slide_type": "subslide"
    }
   },
   "source": [
    "* Los polos en el semiplano derecho de $\\frac{F(s)}{F(-s)}$ seran ceros de F(-s) --sino $F(s)$ sería inestable--.\n",
    "* Los polos en el semiplano izquierdo de $\\frac{F(s)}{F(-s)}$, pueden ser tanto polos de $F(s)$ como ceros de $F(-s)$ --a elección--.\n",
    "* Diferencia de grado entre numerador y denominador $F(s)$ tiene que ser admisible. Para una transferencia $grado(num) < gr(den)$."
   ]
  },
  {
   "cell_type": "markdown",
   "metadata": {
    "slideshow": {
     "slide_type": "slide"
    }
   },
   "source": [
    "## A partir de $\\tau(\\omega)$\n",
    "\n",
    "$\\tau(j\\omega) = - \\frac{d\\phi(j\\omega)}{d\\omega}$"
   ]
  },
  {
   "cell_type": "markdown",
   "metadata": {
    "slideshow": {
     "slide_type": "subslide"
    }
   },
   "source": [
    "Se puede demostrar que:\n",
    "\n",
    "$\\tau(w) = \\sum_i{\\frac{\\sigma_{z\\_i}}{\\sigma^2_{z\\_i} + (\\omega-\\omega_{z\\_i})^2}} - \\sum_k{\\frac{\\sigma_{p\\_k}}{\\sigma^2_{p\\_k} + (\\omega-\\omega_{p\\_k})^2}}$\n",
    "\n",
    "Donde:\n",
    "\n",
    "$s_{z\\_i} = \\sigma_{z\\_i} + j \\omega_{z\\_i}$ son los zeros de $F(s)$ y\n",
    "\n",
    "$s_{p\\_k} = \\sigma_{p\\_k} + j \\omega_{p\\_k}$ son los polos.\n",
    "\n",
    "---\n",
    "\n",
    "Descomponiendo $\\tau(s)$ en fracciones simples podemos recomponer $F(s)$ teniendo en cuenta las siguientes observaciones:\n",
    "\n",
    "* Si el residuo --el numerador-- es negativo, debera corresponder a un cero de $F(s)$ en el semiplano izquierdo.\n",
    "* Si el residuo es positivo, puede corresponder tanto a un cero de $F(s)$ en el semiplano derecho como a un polo en el semiplano izquierdo."
   ]
  }
 ],
 "metadata": {
  "celltoolbar": "Slideshow",
  "kernelspec": {
   "display_name": "Python 3.6.9 64-bit",
   "language": "python",
   "name": "python36964bit9a8759bf12214193a836903385e74cd2"
  },
  "language_info": {
   "codemirror_mode": {
    "name": "ipython",
    "version": 3
   },
   "file_extension": ".py",
   "mimetype": "text/x-python",
   "name": "python",
   "nbconvert_exporter": "python",
   "pygments_lexer": "ipython3",
   "version": "3.6.9"
  }
 },
 "nbformat": 4,
 "nbformat_minor": 4
}
