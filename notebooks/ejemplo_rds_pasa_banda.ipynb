{
 "cells": [
  {
   "cell_type": "markdown",
   "metadata": {},
   "source": [
    "# Ejemplo diseño pasa banda filtro RDS\n",
    "\n",
    "## Introducción\n",
    "\n",
    "- https://www.advantest.com/documents/11348/7898f05e-0a52-4e68-9221-3b8b75595436\n",
    "\n",
    "<img src=\"ejemplo_rds/espectro_rds.gif\"/>\n",
    "\n",
    "\n",
    "## Plantilla\n",
    "\n",
    "<img src=\"ejemplo_rds/pasa_banda_plantilla.jpg\"/>\n",
    "\n",
    "$f_0 = 57KHz$\n",
    "\n",
    "$B = 1187.5Hz$\n",
    "\n",
    "$\\alpha_{max} = 1dB$\n",
    "\n",
    "$\\alpha_{min_1} = 25dB$\n",
    "\n",
    "$\\alpha_{min_2} = 25dB$\n",
    "\n",
    "$f_{s1} = 53KHz$\n",
    "\n",
    "$f_{s2} = 62KHz$\n",
    "\n",
    "\n",
    "## Requisito de filtro\n",
    "\n",
    "- Filtro de máxima planicidad pasa banda\n",
    "- Implementar con Ackerberg Mossberg"
   ]
  },
  {
   "cell_type": "code",
   "execution_count": 1,
   "metadata": {},
   "outputs": [],
   "source": [
    "import scipy.signal as sig\n",
    "import matplotlib.pyplot as plt\n",
    "from splane import pzmap, grpDelay, bodePlot, convert2SOS\n",
    "import numpy as np\n",
    "import math as m"
   ]
  },
  {
   "cell_type": "markdown",
   "metadata": {},
   "source": [
    "### Cálculo de Q"
   ]
  },
  {
   "cell_type": "code",
   "execution_count": 2,
   "metadata": {},
   "outputs": [
    {
     "name": "stdout",
     "output_type": "stream",
     "text": [
      "Q: 48.0\n"
     ]
    }
   ],
   "source": [
    "f_rds = 57e3  # Hz\n",
    "B = 1187.5 # Hz\n",
    "Q = f_rds / B\n",
    "\n",
    "fs1 = 53e3  # Hz\n",
    "fs2 = 62e3  # Hz\n",
    "\n",
    "print('Q: {}'.format(Q))"
   ]
  },
  {
   "cell_type": "markdown",
   "metadata": {},
   "source": [
    "### Calculo de las frecuencias de plantilla BP y LP"
   ]
  },
  {
   "cell_type": "code",
   "execution_count": 3,
   "metadata": {},
   "outputs": [
    {
     "data": {
      "text/plain": [
       "array([-57596.84236403,  56409.34236403])"
      ]
     },
     "execution_count": 3,
     "metadata": {},
     "output_type": "execute_result"
    }
   ],
   "source": [
    "# Calculo de frecuencias apropiado!\n",
    "np.roots([1, B, -f_rds*f_rds])"
   ]
  },
  {
   "cell_type": "code",
   "execution_count": 4,
   "metadata": {},
   "outputs": [
    {
     "name": "stdout",
     "output_type": "stream",
     "text": [
      "f1: 56406.25, f2: 57593.75, f0: 56996.907468190766\n"
     ]
    }
   ],
   "source": [
    "# Calculo de frecuencias en la banda de paso (no apropiado, solo aproximacion por alto Q)\n",
    "fp1 = f_rds - B/2\n",
    "fp2 = f_rds + B / 2\n",
    "f0 = np.sqrt(fp1 * fp2)\n",
    "\n",
    "print('f1: {}, f2: {}, f0: {}'.format(fp1, fp2, f0))"
   ]
  },
  {
   "cell_type": "code",
   "execution_count": 5,
   "metadata": {},
   "outputs": [
    {
     "name": "stdout",
     "output_type": "stream",
     "text": [
      "wp1: 0.9896370260347827, wp2: 1.010471489740778\n"
     ]
    }
   ],
   "source": [
    "# Calculo de las w\n",
    "w0 = 2 * np.pi * f0\n",
    "wp1 = 2 * np.pi * fp1\n",
    "wp2 = 2 * np.pi * fp2\n",
    "\n",
    "# Normalizo respecto de w0\n",
    "wp1 = wp1 / w0\n",
    "wp2 = wp2 / w0\n",
    "\n",
    "print('wp1: {}, wp2: {}'.format(wp1, wp2))"
   ]
  },
  {
   "cell_type": "code",
   "execution_count": 6,
   "metadata": {},
   "outputs": [],
   "source": [
    "def hp2lp(wp, w0, Q):\n",
    "    return Q * (wp**2 - w0**2) / wp"
   ]
  },
  {
   "cell_type": "code",
   "execution_count": 7,
   "metadata": {},
   "outputs": [
    {
     "name": "stdout",
     "output_type": "stream",
     "text": [
      "Wp1: -1.0000542578877822, Wp2: 1.000054257887773\n"
     ]
    }
   ],
   "source": [
    "# Calculo de las W\n",
    "Wp1 = hp2lp(wp1, 1, Q)\n",
    "Wp2 = hp2lp(wp2, 1, Q)\n",
    "\n",
    "print('Wp1: {}, Wp2: {}'.format(Wp1, Wp2))"
   ]
  },
  {
   "cell_type": "code",
   "execution_count": 8,
   "metadata": {},
   "outputs": [
    {
     "name": "stdout",
     "output_type": "stream",
     "text": [
      "Ws1: -6.98584016333821, Ws2: 8.086721108777638\n"
     ]
    }
   ],
   "source": [
    "# Calculo el valor de Ws1 y Ws2\n",
    "ws1 = 2 * np.pi * fs1\n",
    "ws2 = 2 * np.pi * fs2\n",
    "ws1 = ws1 / w0\n",
    "ws2 = ws2 / w0\n",
    "\n",
    "\n",
    "Ws1 = hp2lp(ws1, 1, Q)\n",
    "Ws2 = hp2lp(ws2, 1, Q)\n",
    "\n",
    "print('Ws1: {}, Ws2: {}'.format(Ws1, Ws2))"
   ]
  },
  {
   "cell_type": "markdown",
   "metadata": {},
   "source": [
    "### Calculo de N y $\\epsilon$"
   ]
  },
  {
   "cell_type": "code",
   "execution_count": 9,
   "metadata": {},
   "outputs": [
    {
     "name": "stdout",
     "output_type": "stream",
     "text": [
      "Ns1: 1.82739969549721, Ns2: 1.699462092899426\n",
      "epsilon: 0.5088471399095875, N: 1.82739969549721, N_ent: 2\n"
     ]
    }
   ],
   "source": [
    "alpha_max = 1   # dB\n",
    "alpha_min = 25  # dB\n",
    "\n",
    "\n",
    "epsilon = m.sqrt(m.pow(10, 0.1 * alpha_max) - 1)\n",
    "Ns1 = m.log10((m.pow(10, alpha_min * 0.1) - 1) / (m.pow(10, alpha_max * 0.1) - 1)) / (2 * m.log10(abs(Ws1)))\n",
    "Ns2 = m.log10((m.pow(10, alpha_min * 0.1) - 1) / (m.pow(10, alpha_max * 0.1) - 1)) / (2 * m.log10(abs(Ws2)))\n",
    "\n",
    "print('Ns1: {}, Ns2: {}'.format(Ns1, Ns2))\n",
    "\n",
    "N = Ns1 if Ns1 > Ns2 else Ns2\n",
    "\n",
    "print('epsilon: {}, N: {}, N_ent: {}'.format(epsilon, N, m.ceil(N)))\n",
    "\n",
    "N = m.ceil(N)"
   ]
  },
  {
   "cell_type": "markdown",
   "metadata": {},
   "source": [
    "### Calculo de w de Butterworth"
   ]
  },
  {
   "cell_type": "code",
   "execution_count": 10,
   "metadata": {},
   "outputs": [
    {
     "name": "stdout",
     "output_type": "stream",
     "text": [
      "N_omega_2: 1.4018654458828321\n"
     ]
    }
   ],
   "source": [
    "N_omega_2 = 1 / m.sqrt(epsilon) # Escala por W_butterworth\n",
    "\n",
    "print('N_omega_2: {}'.format(N_omega_2))"
   ]
  },
  {
   "cell_type": "markdown",
   "metadata": {},
   "source": [
    "### Cálculo de función transferencia prototipo pasa bajos"
   ]
  },
  {
   "cell_type": "code",
   "execution_count": 11,
   "metadata": {},
   "outputs": [
    {
     "name": "stdout",
     "output_type": "stream",
     "text": [
      "TransferFunctionContinuous(\n",
      "array([1.]),\n",
      "array([1.        , 1.41421356, 1.        ]),\n",
      "dt: None\n",
      ")\n",
      "Polos:  [-0.70710678+0.70710678j -0.70710678-0.70710678j]\n",
      "Ceros:  []\n"
     ]
    },
    {
     "data": {
      "image/png": "[encoded data removed]",
      "text/plain": [
       "<Figure size 432x288 with 1 Axes>"
      ]
     },
     "metadata": {
      "needs_background": "light"
     },
     "output_type": "display_data"
    },
    {
     "data": {
      "image/png": "[encoded data removed]",
      "text/plain": [
       "<Figure size 432x288 with 1 Axes>"
      ]
     },
     "metadata": {
      "needs_background": "light"
     },
     "output_type": "display_data"
    }
   ],
   "source": [
    "D_lp_butter = [1, m.sqrt(2), 1]\n",
    "N_lp_butter = [1]\n",
    "H_lp_butter = sig.TransferFunction(N_lp_butter, D_lp_butter)\n",
    "print(H_lp_butter)\n",
    "print('Polos: ', H_lp_butter.poles)\n",
    "print('Ceros: ', H_lp_butter.zeros)\n",
    "bodePlot(H_lp_butter)\n"
   ]
  },
  {
   "cell_type": "code",
   "execution_count": 12,
   "metadata": {},
   "outputs": [
    {
     "name": "stdout",
     "output_type": "stream",
     "text": [
      "0 zeros: []\n",
      "2 poles: [-0.70710678+0.70710678j -0.70710678-0.70710678j]\n",
      "gain: 1.0\n"
     ]
    },
    {
     "data": {
      "image/png": "[encoded data removed]",
      "text/plain": [
       "<Figure size 432x288 with 1 Axes>"
      ]
     },
     "metadata": {
      "needs_background": "light"
     },
     "output_type": "display_data"
    }
   ],
   "source": [
    "pzmap(H_lp_butter)"
   ]
  },
  {
   "cell_type": "markdown",
   "metadata": {},
   "source": [
    "### Conversion a pasa banda"
   ]
  },
  {
   "cell_type": "code",
   "execution_count": 13,
   "metadata": {},
   "outputs": [
    {
     "name": "stdout",
     "output_type": "stream",
     "text": [
      "a: 1, b: 0.041302856795618896, c: 2.0008529629897396, d: 0.041302856795618896, e: 1, k: 0.0008529629897397013\n"
     ]
    }
   ],
   "source": [
    "a = 1\n",
    "b = N_omega_2 / (Q * m.sqrt(2)/2)\n",
    "c = 2 + N_omega_2**2 / Q**2\n",
    "d = N_omega_2 / (Q * m.sqrt(2)/2)\n",
    "e = 1\n",
    "k = N_omega_2**2 / Q**2\n",
    "\n",
    "print('a: {}, b: {}, c: {}, d: {}, e: {}, k: {}'.format(a, b, c, d, e, k))\n"
   ]
  },
  {
   "cell_type": "code",
   "execution_count": 14,
   "metadata": {},
   "outputs": [
    {
     "name": "stdout",
     "output_type": "stream",
     "text": [
      "TransferFunctionContinuous(\n",
      "array([0.00085296, 0.        , 0.        ]),\n",
      "array([1.        , 0.04130286, 2.00085296, 0.04130286, 1.        ]),\n",
      "dt: None\n",
      ")\n",
      "Poles: [-0.01043233+1.01032572j -0.01043233-1.01032572j -0.01021909+0.98967429j\n",
      " -0.01021909-0.98967429j]\n",
      "Zeros: [0. 0.]\n"
     ]
    },
    {
     "data": {
      "image/png": "[encoded data removed]",
      "text/plain": [
       "<Figure size 432x288 with 1 Axes>"
      ]
     },
     "metadata": {
      "needs_background": "light"
     },
     "output_type": "display_data"
    },
    {
     "data": {
      "image/png": "[encoded data removed]",
      "text/plain": [
       "<Figure size 432x288 with 1 Axes>"
      ]
     },
     "metadata": {
      "needs_background": "light"
     },
     "output_type": "display_data"
    }
   ],
   "source": [
    "N_bp = [k, 0, 0]\n",
    "D_bp = [a, b, c, d, e]\n",
    "\n",
    "H_bp = sig.TransferFunction(N_bp, D_bp)\n",
    "\n",
    "print(H_bp)\n",
    "print('Poles:',H_bp.poles)\n",
    "print('Zeros:', H_bp.zeros)\n",
    "bodePlot(H_bp)"
   ]
  },
  {
   "cell_type": "code",
   "execution_count": 15,
   "metadata": {},
   "outputs": [
    {
     "name": "stdout",
     "output_type": "stream",
     "text": [
      "2 zeros: [0. 0.]\n",
      "4 poles: [-0.01043233+1.01032572j -0.01043233-1.01032572j -0.01021909+0.98967429j\n",
      " -0.01021909-0.98967429j]\n",
      "gain: 0.0008529629897397013\n"
     ]
    },
    {
     "data": {
      "image/png": "[encoded data removed]",
      "text/plain": [
       "<Figure size 432x288 with 1 Axes>"
      ]
     },
     "metadata": {
      "needs_background": "light"
     },
     "output_type": "display_data"
    }
   ],
   "source": [
    "pzmap(H_bp)"
   ]
  },
  {
   "cell_type": "code",
   "execution_count": 16,
   "metadata": {},
   "outputs": [
    {
     "name": "stdout",
     "output_type": "stream",
     "text": [
      "[1, 0.0208, 1.02081425]\n",
      "[1, 0.0204, 0.97961013]\n"
     ]
    }
   ],
   "source": [
    "print([1, 2*0.0104, np.abs(0.0104+1.0103j)**2])\n",
    "print([1, 2*0.0102, np.abs(0.0102+0.9897j)**2])"
   ]
  },
  {
   "cell_type": "code",
   "execution_count": 17,
   "metadata": {},
   "outputs": [
    {
     "data": {
      "text/plain": [
       "0.00042432"
      ]
     },
     "execution_count": 17,
     "metadata": {},
     "output_type": "execute_result"
    }
   ],
   "source": [
    "0.0208*0.0204"
   ]
  },
  {
   "cell_type": "code",
   "execution_count": 18,
   "metadata": {},
   "outputs": [
    {
     "data": {
      "text/plain": [
       "array([ 1.        +0.j, -0.02086466+0.j,  1.02086689+0.j])"
      ]
     },
     "execution_count": 18,
     "metadata": {},
     "output_type": "execute_result"
    }
   ],
   "source": [
    "np.convolve([1, -0.01043233+1.01032572j], [1, -0.01043233-1.01032572j])\n"
   ]
  },
  {
   "cell_type": "code",
   "execution_count": 19,
   "metadata": {},
   "outputs": [
    {
     "data": {
      "text/plain": [
       "array([ 1.        +0.j, -0.02043818+0.j,  0.97955963+0.j])"
      ]
     },
     "execution_count": 19,
     "metadata": {},
     "output_type": "execute_result"
    }
   ],
   "source": [
    "np.convolve([1, -0.01021909+0.98967429j], [1, -0.01021909-0.98967429j])"
   ]
  },
  {
   "cell_type": "code",
   "execution_count": 20,
   "metadata": {},
   "outputs": [
    {
     "data": {
      "text/plain": [
       "array([-0.99126856+0.99126856j, -0.99126856-0.99126856j])"
      ]
     },
     "execution_count": 20,
     "metadata": {},
     "output_type": "execute_result"
    }
   ],
   "source": [
    "np.roots([1/N_omega_2**2, m.sqrt(2)/N_omega_2, 1])"
   ]
  },
  {
   "cell_type": "code",
   "execution_count": 21,
   "metadata": {},
   "outputs": [
    {
     "data": {
      "text/plain": [
       "array([-0.01043233+1.01032572j, -0.01021909-0.98967429j])"
      ]
     },
     "execution_count": 21,
     "metadata": {},
     "output_type": "execute_result"
    }
   ],
   "source": [
    "np.roots([1, -(-0.99126856+0.99126856j)/Q, 1])"
   ]
  },
  {
   "cell_type": "code",
   "execution_count": 22,
   "metadata": {},
   "outputs": [
    {
     "data": {
      "text/plain": [
       "array([-0.01043233-1.01032572j, -0.01021909+0.98967429j])"
      ]
     },
     "execution_count": 22,
     "metadata": {},
     "output_type": "execute_result"
    }
   ],
   "source": [
    "np.roots([1, -(-0.99126856-0.99126856j)/Q, 1])"
   ]
  },
  {
   "cell_type": "code",
   "execution_count": 23,
   "metadata": {},
   "outputs": [
    {
     "name": "stdout",
     "output_type": "stream",
     "text": [
      "L1: 0.9897525698106954, C1: 1, R1: 48.07692307692308\n",
      "L2: 1.0103535372654688, C2: 1, R2: 49.01960784313725\n"
     ]
    }
   ],
   "source": [
    "L1 = 1 / m.sqrt(1.02081425)\n",
    "C1 = 1\n",
    "R1 = 1 / 0.0208\n",
    "\n",
    "L2 = 1 / m.sqrt(0.97961013)\n",
    "C2 = 1\n",
    "R2 = 1 / 0.0204\n",
    "\n",
    "print('L1: {}, C1: {}, R1: {}'.format(L1, C1, R1))\n",
    "print('L2: {}, C2: {}, R2: {}'.format(L2, C2, R2))"
   ]
  },
  {
   "cell_type": "code",
   "execution_count": 24,
   "metadata": {},
   "outputs": [
    {
     "data": {
      "text/plain": [
       "1.560470984134375"
      ]
     },
     "execution_count": 24,
     "metadata": {},
     "output_type": "execute_result"
    }
   ],
   "source": [
    "m.atan2(1.01032572, 0.01043233)"
   ]
  },
  {
   "cell_type": "code",
   "execution_count": 25,
   "metadata": {},
   "outputs": [
    {
     "data": {
      "text/plain": [
       "1.5604709834581758"
      ]
     },
     "execution_count": 25,
     "metadata": {},
     "output_type": "execute_result"
    }
   ],
   "source": [
    "m.atan2(0.98967429, 0.01021909)"
   ]
  },
  {
   "cell_type": "markdown",
   "metadata": {},
   "source": [
    "### Circuito\n",
    "\n",
    "<img src=ejemplo_pasa_banda_rds/circuito.png>\n",
    "\n",
    "### Centro de banda de paso $f_{0}$ (normalizado)\n",
    "\n",
    "<img src=ejemplo_pasa_banda_rds/centro_de_banda.png>\n",
    "\n",
    "### Atenuaciones en $f_{p1}$ y $f_{p2}$ (normalizado)\n",
    "\n",
    "<img src=ejemplo_pasa_banda_rds/atenuacion.png>\n",
    "\n",
    "### Atenuaciones en $f_{s1}$ y $f_{s2}$\n",
    "\n",
    "<img src=ejemplo_pasa_banda_rds/banda_de_paso.png>"
   ]
  },
  {
   "cell_type": "code",
   "execution_count": null,
   "metadata": {},
   "outputs": [],
   "source": []
  }
 ],
 "metadata": {
  "kernelspec": {
   "display_name": "Python 3",
   "language": "python",
   "name": "python3"
  },
  "language_info": {
   "codemirror_mode": {
    "name": "ipython",
    "version": 3
   },
   "file_extension": ".py",
   "mimetype": "text/x-python",
   "name": "python",
   "nbconvert_exporter": "python",
   "pygments_lexer": "ipython3",
   "version": "3.7.4"
  }
 },
 "nbformat": 4,
 "nbformat_minor": 2
}
