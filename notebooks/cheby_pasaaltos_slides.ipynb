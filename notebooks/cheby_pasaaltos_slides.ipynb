{
 "cells": [
  {
   "cell_type": "markdown",
   "metadata": {
    "slideshow": {
     "slide_type": "skip"
    },
    "tags": [
     "to_remove_all"
    ]
   },
   "source": [
    "### Instrucciones para generar slides:\n",
    "\n",
    "* Base:\n",
    "  ```\n",
    "  python3 -m nbconvert --to slides --TagRemovePreprocessor.remove_input_tags={\\\"to_remove\\\"} cheby_pasaaltos_slides.ipynb\n",
    "  ```\n",
    "* Con otro theme:\n",
    "  * Clonar https://github.com/hakimel/reveal.js/ dentro de la carpeta donde se encuentra este archivo.\n",
    "    Hacer checkout de `3.5.0`.\n",
    "  * Correr\n",
    "    ```\n",
    "    python3 -m nbconvert --to slides --TagRemovePreprocessor.remove_input_tags={\\\"to_remove\\\"} cheby_pasaaltos_slides.ipynb --SlidesExporter.reveal_theme=\"serif\" --reveal-prefix reveal.js\n",
    "    ```\n",
    "* Para ver las diapositivas sin generar el `htlm`, agragar `--post serve`.\n",
    "* Para imprimir un `pdf` a partir de las diapositivas, agregar query `print-pdf` a la url, e.g. `http://127.0.0.1:8000/cheby_pasaaltos_slides.slides.html?print-pdf#/`. Funciona bien con chrome.\n",
    "* Para imprimir `pdf` no en formato slide, usar:\n",
    "  ```\n",
    "  python3 -m nbconvert --to pdf --TagRemovePreprocessor.remove_cell_tags={\\\"to_remove_all\\\"} cheby_pasaaltos_slides\n",
    "  ```\n",
    "\n",
    "### Como editar slides:\n",
    "\n",
    "* Para organizarlas, en un jupyter notebook ir a `View->Cell Toolbar->Slideshow`.\n",
    "  Aparecera un desplegable en cada celda que permite lo mismo.\n",
    "* Los comandos especificados arriba eliminan las celdas marcadas como `to_remove`, pero no se output.\n",
    "  Ideal para gráficos, donde el código de generación es muy largo y queda feo el slide.\n",
    "  Para esto, ir a `View->Cell Toolbar->Tags`, y agregar el tag mensionado anteriormente a las celdas que se deseé.\n",
    "  Para generar `pdf` use un tag distinto: `to_remove_all`.\n",
    "  Esto se debe a que `remove_input_tags` preprocessor tiene un bug y elimina el output también en ese caso."
   ]
  },
  {
   "cell_type": "markdown",
   "metadata": {
    "slideshow": {
     "slide_type": "slide"
    }
   },
   "source": [
    "# Ejemplo filtro Chebyshev pasaaltos"
   ]
  },
  {
   "cell_type": "markdown",
   "metadata": {
    "slideshow": {
     "slide_type": "subslide"
    }
   },
   "source": [
    "## Plantilla\n",
    "\n",
    "|  $\\alpha$               |  $f$  |\n",
    "|-------------------------|-------|\n",
    "|  $\\alpha_{max}$ = 1dB   | 45Hz  |\n",
    "|  $\\alpha_{min}$ = 20dB  | 10Hz  |\n"
   ]
  },
  {
   "cell_type": "code",
   "execution_count": 1,
   "metadata": {
    "slideshow": {
     "slide_type": "subslide"
    },
    "tags": [
     "to_remove"
    ]
   },
   "outputs": [
    {
     "data": {
      "image/png": "[encoded data removed]",
      "text/plain": [
       "<Figure size 432x288 with 1 Axes>"
      ]
     },
     "metadata": {
      "needs_background": "light"
     },
     "output_type": "display_data"
    }
   ],
   "source": [
    "%matplotlib inline\n",
    "import numpy as np\n",
    "import matplotlib.pyplot as plt\n",
    "\n",
    "w_banda_paso = np.linspace(45, 100)\n",
    "w_banda_att = np.linspace(0, 10)\n",
    "att_min = 20  # dB\n",
    "att_max = 1  # dB\n",
    "\n",
    "# Lineas verticales para mejor visualizacion\n",
    "vertical_banda_paso = np.linspace(0, att_max)\n",
    "vertical_banda_att = np.linspace(0, att_min)\n",
    "\n",
    "# Ploteo\n",
    "fig, ax = plt.subplots()\n",
    "ax.ticklabel_format(useOffset=False)\n",
    "ax.set_ylabel('Att [db]')\n",
    "ax.set_xlabel('f [Hz]')\n",
    "ax.grid(True)\n",
    "ticks = range(0, 101,10)\n",
    "ax.set_xticks(ticks)\n",
    "ax.plot(w_banda_paso, [att_max] * len(w_banda_paso), '-b')\n",
    "ax.plot(w_banda_att, [att_min] * len(w_banda_att), '-b')\n",
    "ax.plot([45] * len(vertical_banda_paso), vertical_banda_paso, '-b')\n",
    "ax.plot([10] * len(vertical_banda_att), vertical_banda_att, '-b')\n",
    "\n",
    "plt.show()"
   ]
  },
  {
   "cell_type": "markdown",
   "metadata": {
    "slideshow": {
     "slide_type": "slide"
    }
   },
   "source": [
    "## Plantilla normalizada"
   ]
  },
  {
   "cell_type": "code",
   "execution_count": 2,
   "metadata": {
    "slideshow": {
     "slide_type": "subslide"
    }
   },
   "outputs": [
    {
     "name": "stdout",
     "output_type": "stream",
     "text": [
      "w_p_n = 1, w_s_n = 0.2222222222222222\n"
     ]
    }
   ],
   "source": [
    "import math as m\n",
    "\n",
    "w_p = 2 * m.pi * 45\n",
    "w_s = 2 * m.pi * 10\n",
    "\n",
    "w_p_n = 1\n",
    "w_s_n = w_s / w_p\n",
    "\n",
    "print(f'w_p_n = {w_p_n}, w_s_n = {w_s_n}')"
   ]
  },
  {
   "cell_type": "markdown",
   "metadata": {
    "slideshow": {
     "slide_type": "slide"
    }
   },
   "source": [
    "## Plantilla pasabajos prototipo"
   ]
  },
  {
   "cell_type": "code",
   "execution_count": 3,
   "metadata": {
    "slideshow": {
     "slide_type": "subslide"
    }
   },
   "outputs": [
    {
     "name": "stdout",
     "output_type": "stream",
     "text": [
      "w_p_lp = 1.0, w_s_lp = 4.5\n"
     ]
    }
   ],
   "source": [
    "w_p_lp = 1 / w_p_n\n",
    "w_s_lp = 1 / w_s_n\n",
    "\n",
    "print(f'w_p_lp = {w_p_lp}, w_s_lp = {w_s_lp}')"
   ]
  },
  {
   "cell_type": "markdown",
   "metadata": {
    "slideshow": {
     "slide_type": "slide"
    }
   },
   "source": [
    "## Orden del filtro\n",
    "\n"
   ]
  },
  {
   "cell_type": "code",
   "execution_count": 4,
   "metadata": {
    "slideshow": {
     "slide_type": "subslide"
    }
   },
   "outputs": [
    {
     "name": "stdout",
     "output_type": "stream",
     "text": [
      "epsilon: 0.5088471399095875, N: 2\n"
     ]
    }
   ],
   "source": [
    "alpha_max = 1    # dB\n",
    "alpha_min = 20   # dB\n",
    "\n",
    "epsilon = m.sqrt(m.pow(10, 0.1 * alpha_max) - 1)\n",
    "N = m.acosh((m.pow(10, alpha_min * 0.1) - 1) / (m.pow(10, alpha_max * 0.1) - 1)) / (2 * m.acosh(w_s_lp))\n",
    "N = m.ceil(N)\n",
    "\n",
    "print(f'epsilon: {epsilon}, N: {N}')"
   ]
  },
  {
   "cell_type": "markdown",
   "metadata": {
    "slideshow": {
     "slide_type": "slide"
    }
   },
   "source": [
    "## Obtención transferencia pasabajos"
   ]
  },
  {
   "cell_type": "markdown",
   "metadata": {
    "slideshow": {
     "slide_type": "subslide"
    }
   },
   "source": [
    "Formula recurrencia:\n",
    "\n",
    "$c_n(\\omega) = 2 * \\omega * c_{n-1}(\\omega) - c_{n-2}(\\omega)$\n",
    "\n",
    "| n   | $c_n$($\\omega$) |\n",
    "|:---:|:---:|\n",
    "| 0 | 1 |\n",
    "| 1 | $\\omega$ |\n",
    "| 2 | 2*$\\omega^2$-1|\n",
    "\n",
    "$\\epsilon \\simeq 0.51$\n",
    "\n",
    "Módulo:\n",
    "\n",
    "$H(j\\omega)*H(-j\\omega) = \\frac{1}{1 + \\epsilon^2 * c^2_2(w)} = \\frac{1}{4* \\epsilon^2 * \\omega^4 - 4 * \\epsilon^2 * \\omega^2 + 1 + \\epsilon^2}$"
   ]
  },
  {
   "cell_type": "markdown",
   "metadata": {
    "slideshow": {
     "slide_type": "subslide"
    }
   },
   "source": [
    "Factorizamos para obtener $H(s)$:\n",
    "\n",
    "$H(s)*H(-s) = \\frac{1}{1.04 * s^4 + 1.04 * s^2 + 1.26} = \\frac{1}{a* s^2 + b * s + c}\\frac{1}{a* s^2 - b * s + c}$\n",
    "\n",
    "$c^2 = 1.26$\n",
    "\n",
    "$a^2 = 1.04$\n",
    "\n",
    "$2*a*c - b^2 = 1.04$\n",
    "\n",
    "Resolviendo:\n",
    "\n",
    "$a = 1.02$\n",
    "\n",
    "$c = 1.12$\n",
    "\n",
    "$b = \\sqrt{2 * 1.02 * 1.12 - 1.04} = 1.12$\n",
    "\n",
    "$H(s) = \\frac{1}{a* s^2 + b * s + c} = \\frac{1}{1.02* s^2 + 1.12 * s + 1.12}$\n"
   ]
  },
  {
   "cell_type": "markdown",
   "metadata": {
    "slideshow": {
     "slide_type": "slide"
    }
   },
   "source": [
    "## Verificación prototipo pasabajos"
   ]
  },
  {
   "cell_type": "code",
   "execution_count": 5,
   "metadata": {
    "slideshow": {
     "slide_type": "subslide"
    },
    "tags": [
     "to_remove"
    ]
   },
   "outputs": [
    {
     "data": {
      "text/plain": [
       "[]"
      ]
     },
     "execution_count": 5,
     "metadata": {},
     "output_type": "execute_result"
    },
    {
     "data": {
      "image/png": "[encoded data removed]",
      "text/plain": [
       "<Figure size 432x288 with 1 Axes>"
      ]
     },
     "metadata": {
      "needs_background": "light"
     },
     "output_type": "display_data"
    }
   ],
   "source": [
    "from scipy import signal\n",
    "\n",
    "num = [1]\n",
    "den = [1.02, 1.12, 1.12]\n",
    "filtro = signal.TransferFunction(num, den)\n",
    "\n",
    "w = np.logspace(np.log10(0.1), np.log10(10), num=1000)\n",
    "w, mag, _ = filtro.bode(w=w)\n",
    "vertical = np.linspace(min(mag), max(mag))\n",
    "\n",
    "plt.figure()\n",
    "plt.semilogx(w, mag, '-b')    # Bode magnitude plot\n",
    "plt.grid(True)\n",
    "plt.xlabel('Angular frequency [rad/sec]')\n",
    "plt.ylabel('Magnitude response [dB]')\n",
    "plt.title('Frequency response')\n",
    "\n",
    "plt.semilogx(w, [-alpha_max] * len(w), '-r')\n",
    "plt.semilogx(w, [-alpha_min] * len(w), '-r')\n",
    "plt.semilogx([1] * len(vertical), vertical, '-r')\n",
    "plt.semilogx([4.5] * len(vertical), vertical, '-r')\n",
    "\n",
    "plt.plot()"
   ]
  },
  {
   "cell_type": "code",
   "execution_count": 6,
   "metadata": {
    "slideshow": {
     "slide_type": "subslide"
    },
    "tags": [
     "to_remove"
    ]
   },
   "outputs": [
    {
     "name": "stdout",
     "output_type": "stream",
     "text": [
      "0 zeros: []\n",
      "2 poles: [-0.54901961+0.89253386j -0.54901961-0.89253386j]\n",
      "gain: 0.9803921568627451\n"
     ]
    },
    {
     "data": {
      "image/png": "[encoded data removed]",
      "text/plain": [
       "<Figure size 432x288 with 1 Axes>"
      ]
     },
     "metadata": {
      "needs_background": "light"
     },
     "output_type": "display_data"
    }
   ],
   "source": [
    "import splane\n",
    "\n",
    "splane.pzmap(filtro)"
   ]
  },
  {
   "cell_type": "markdown",
   "metadata": {
    "slideshow": {
     "slide_type": "slide"
    }
   },
   "source": [
    "## Obtención transferencia pasaaltos normalizada"
   ]
  },
  {
   "cell_type": "markdown",
   "metadata": {
    "slideshow": {
     "slide_type": "subslide"
    }
   },
   "source": [
    "Kernel transformación:\n",
    "\n",
    "$K(s) = \\frac{1}{s}$\n",
    "\n",
    "Obtengo $H(s)$ del pasaaltos:\n",
    "\n",
    "$H(s) = \\frac{1}{1.02 * s^2 + 1.12 * s + 1.12} |_{s -> 1/s}$\n",
    "\n",
    "$H(s) = \\frac{1}{1.02 * (1/s)^2 + 1.12 * (1/s) + 1.12}$\n",
    "\n",
    "$H(s) = \\frac{s^2}{1.12 * s^2 + 1.12 * s + 1.02}$"
   ]
  },
  {
   "cell_type": "markdown",
   "metadata": {
    "slideshow": {
     "slide_type": "slide"
    }
   },
   "source": [
    "## Verificacion filtro pasaaltos normalizado"
   ]
  },
  {
   "cell_type": "code",
   "execution_count": 7,
   "metadata": {
    "slideshow": {
     "slide_type": "subslide"
    },
    "tags": [
     "to_remove"
    ]
   },
   "outputs": [
    {
     "data": {
      "text/plain": [
       "[]"
      ]
     },
     "execution_count": 7,
     "metadata": {},
     "output_type": "execute_result"
    },
    {
     "data": {
      "image/png": "[encoded data removed]",
      "text/plain": [
       "<Figure size 432x288 with 1 Axes>"
      ]
     },
     "metadata": {
      "needs_background": "light"
     },
     "output_type": "display_data"
    }
   ],
   "source": [
    "from scipy import signal\n",
    "\n",
    "num = [1, 0, 0]\n",
    "den = [1.12, 1.12, 1.02]\n",
    "filtro = signal.TransferFunction(num, den)\n",
    "\n",
    "w = np.logspace(np.log10(0.1), np.log10(10), num=1000)\n",
    "w, mag, _ = filtro.bode(w=w)\n",
    "vertical = np.linspace(min(mag), max(mag))\n",
    "\n",
    "plt.figure()\n",
    "plt.semilogx(w, mag, '-b')    # Bode magnitude plot\n",
    "plt.grid(True)\n",
    "plt.xlabel('Angular frequency [rad/sec]')\n",
    "plt.ylabel('Magnitude response [dB]')\n",
    "plt.title('Frequency response')\n",
    "\n",
    "plt.semilogx(w, [-alpha_max] * len(w), '-r')\n",
    "plt.semilogx(w, [-alpha_min] * len(w), '-r')\n",
    "plt.semilogx([1] * len(vertical), vertical, '-r')\n",
    "plt.semilogx([1/4.5] * len(vertical), vertical, '-r')\n",
    "\n",
    "plt.plot()"
   ]
  },
  {
   "cell_type": "code",
   "execution_count": 8,
   "metadata": {
    "slideshow": {
     "slide_type": "subslide"
    },
    "tags": [
     "to_remove"
    ]
   },
   "outputs": [
    {
     "name": "stdout",
     "output_type": "stream",
     "text": [
      "2 zeros: [0. 0.]\n",
      "2 poles: [-0.5+0.81284333j -0.5-0.81284333j]\n",
      "gain: 0.8928571428571428\n"
     ]
    },
    {
     "data": {
      "image/png": "[encoded data removed]",
      "text/plain": [
       "<Figure size 432x288 with 1 Axes>"
      ]
     },
     "metadata": {
      "needs_background": "light"
     },
     "output_type": "display_data"
    }
   ],
   "source": [
    "import splane\n",
    "\n",
    "splane.pzmap(filtro)"
   ]
  }
 ],
 "metadata": {
  "celltoolbar": "Tags",
  "file_extension": ".py",
  "kernelspec": {
   "display_name": "Python 3.6.9 64-bit",
   "language": "python",
   "name": "python36964bit2539fcbf44204e6c85a33505c61d5067"
  },
  "language_info": {
   "codemirror_mode": {
    "name": "ipython",
    "version": 3
   },
   "file_extension": ".py",
   "mimetype": "text/x-python",
   "name": "python",
   "nbconvert_exporter": "python",
   "pygments_lexer": "ipython3",
   "version": "3.6.9"
  },
  "mimetype": "text/x-python",
  "name": "python",
  "npconvert_exporter": "python",
  "pygments_lexer": "ipython3",
  "version": 3
 },
 "nbformat": 4,
 "nbformat_minor": 2
}
