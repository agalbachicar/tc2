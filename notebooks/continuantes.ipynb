{
 "cells": [
  {
   "cell_type": "markdown",
   "metadata": {},
   "source": [
    "# Método de los continuantes\n",
    "\n",
    "Este método permite resolver de forma sistemática un circuito escalera de N elementos alimentado con un generador ideal de tensión y cargado en vacío. En caso de tener carga, se podrá incorporar al modelo y algunos cálculos extra de deberán realizar para obtener los resultados deseados.\n",
    "\n",
    "El método consiste en el cálculo del determinante de una matriz que se construye proceduralmente de la siguiente forma.\n",
    "\n",
    "- La matriz tiene dimensión $ℝ^{NxN}$ donde $N$ es la cantidad de elementos.\n",
    "- En la diagonal principal se colocan los elementos circuitales comenzando por la primer impedancia $Z_i$ y siguiendo por la admitancia $Y_{i+1}$, y así sucesivamente hasta terminar en una admitancia $Y_{N}$.\n",
    "- El elemento de la matrix $a_{i-1,i}$ será 1.\n",
    "- El elemento de la matrix $a_{i,i-1}$ será -1.\n",
    "- Todos los demás elementos de la matriz serán 0.\n",
    "\n",
    "Entonces, se obtiene una matriz de la forma:\n",
    "\n",
    "$$\n",
    "\\begin{bmatrix} Z_1 & 1 & 0 & 0 & ... & 0\\\\\n",
    " -1 & Y_2 & 1 & 0 & ... & 0 \\\\\n",
    " 0  & 0   & Z_3 & 1 & ... & 0 \\\\\n",
    " 0  & 0   & -1 & Y_4 & ... & 0 \\\\\n",
    " ... \\\\\n",
    " 0  & 0 & 0 & 0 & ... & Y_N \\\\\n",
    " \\end{bmatrix}\n",
    "$$\n",
    "\n",
    "para el siguiente circuito:\n",
    "\n",
    "<img src='./continuantes/escalera.jpeg' />\n",
    "\n",
    "El determinante de la matriz será $\\frac{V_i}{V_0}$, es decir, la transferencia inversa de tensión en vacío del cuadripolo."
   ]
  }
 ],
 "metadata": {
  "kernelspec": {
   "display_name": "Python 3",
   "language": "python",
   "name": "python3"
  },
  "language_info": {
   "codemirror_mode": {
    "name": "ipython",
    "version": 3
   },
   "file_extension": ".py",
   "mimetype": "text/x-python",
   "name": "python",
   "nbconvert_exporter": "python",
   "pygments_lexer": "ipython3",
   "version": "3.7.4"
  }
 },
 "nbformat": 4,
 "nbformat_minor": 2
}
