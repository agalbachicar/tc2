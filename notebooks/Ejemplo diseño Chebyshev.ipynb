{
 "cells": [
  {
   "cell_type": "markdown",
   "metadata": {},
   "source": [
    "# Ejemplo diseño filtro de Chebyshev\n",
    "\n",
    "## Requisitos de plantilla\n",
    "\n",
    "Diseñe un filtro que cumpla con la siguiente plantilla:\n",
    "\n",
    "|  $\\alpha$               |  $f$  |\n",
    "|-------------------------|-------|\n",
    "|  $\\alpha_{max}$ = 1dB   | 1KHz  |\n",
    "|  $\\alpha_{min}$ = 40dB  | 4KHz  |\n",
    "\n",
    "Dicho circuito debe ser sintetizado utilizando las funciones aproximantes de Chebyshev."
   ]
  },
  {
   "cell_type": "markdown",
   "metadata": {},
   "source": [
    "## Cálculo de $\\epsilon$ y $N$\n",
    "\n",
    "Al tener los valores de plantilla del filtro, lo primero que debemos calcular son los parámetros del filtro de Chebyshev, $\\epsilon$ y $N$. Para ello, partimos de la expresión del filtro en $w$:\n",
    "\n",
    "$|H_{(jw)}|^2 = \\frac{1}{1 + \\epsilon^2 C^{(n, N)}}$\n",
    "\n",
    "$|H_{(jw)}| = \\frac{1}{\\sqrt{1 + \\epsilon^2 cosh^2 (N acosh(w))}}$\n",
    "\n",
    "Donde $w$ es una variable normalizada, es decir, los valores de frecuencia provistos en la plantilla deben ser normalizados. Así, podemos obtener la siguiente plantilla:\n",
    "\n",
    "\n",
    "|  $\\alpha$               |  $w$  |\n",
    "|-------------------------|-------|\n",
    "|  $\\alpha_{max}$ = 1dB   | 1     |\n",
    "|  $\\alpha_{min}$ = 40dB  | 4     |\n",
    "\n",
    "Tras haber aplicado una norma de frecuencia $N_{\\Omega_1} = 2 \\pi 1KHz$."
   ]
  },
  {
   "cell_type": "code",
   "execution_count": 2,
   "metadata": {},
   "outputs": [],
   "source": [
    "import math as m\n",
    "\n",
    "alpha_max = 1    # dB\n",
    "alpha_min = 40   # dB\n",
    "w_p = 1\n",
    "w_s = 4\n",
    "N_omega_1 = 2 * m.pi * 1e3"
   ]
  },
  {
   "cell_type": "markdown",
   "metadata": {},
   "source": [
    "Entonces, a partir de la expresión de la transferencia de la cual conocemos dos valores de $w$ y dos valores del módulo de la atenuación, vamos a despejar los parámetros del filtro. Comencemos por $w_{p} = 1$:\n",
    "\n",
    "$\\alpha_{max} = 20 log(\\sqrt{1 + \\epsilon^2 C^2 (N, w_p)}) \\to C^2 (N, 1) = 1$\n",
    "\n",
    "$\\alpha_{max} = 10 log(1 + \\epsilon^2)$\n",
    "\n",
    "$ \\frac{\\alpha_{max}}{10} = log(1 + \\epsilon^2)$\n",
    "\n",
    "$ 10^{0.1\\alpha_{max}} = 1 + \\epsilon^2$\n",
    "\n",
    "$ \\epsilon = \\sqrt{10^{0.1\\alpha_{max}} - 1} $"
   ]
  },
  {
   "cell_type": "code",
   "execution_count": 4,
   "metadata": {},
   "outputs": [
    {
     "data": {
      "text/plain": [
       "0.5088471399095875"
      ]
     },
     "execution_count": 4,
     "metadata": {},
     "output_type": "execute_result"
    }
   ],
   "source": [
    "epsilon = m.sqrt(m.pow(10, 0.1 * alpha_max) - 1)\n",
    "epsilon"
   ]
  },
  {
   "cell_type": "markdown",
   "metadata": {},
   "source": [
    "Proseguimos con el cálculo de $N$. De forma similar, utilizaremos la misma expresión pero evaluada en $w_s = 4$. Resulta:\n",
    "\n",
    "$\\alpha_{min} = 20 log(\\sqrt{1 + \\epsilon^2 C^2 (N, w_s)})$\n",
    "\n",
    "$\\alpha_{min} = 10 log(1 + \\epsilon^2 cosh^2 (N acosh( w_s )))$\n",
    "\n",
    "$ \\frac{\\alpha_{min}}{10} = log(1 + \\epsilon^2 cosh^2 (N acosh( w_s )))$\n",
    "\n",
    "$ 10^{0.1\\alpha_{min}} = 1 + \\epsilon^2 cosh^2 (N acosh( w_s ))$ \n",
    "\n",
    "$ 10^{0.1\\alpha_{min}} - 1 = \\epsilon^2 cosh^2 (N acosh( w_s ))$ \n",
    "\n",
    "$ \\frac{10^{0.1\\alpha_{min}} - 1}{\\epsilon^2} = cosh^2 (N acosh( w_s ))$\n",
    "\n",
    "$ \\frac{10^{0.1\\alpha_{min}} - 1}{10^{0.1\\alpha_{max}} - 1} = cosh^2 (N acosh( w_s ))$ \n",
    "\n",
    "$ \\sqrt{\\frac{10^{0.1\\alpha_{min}} - 1}{10^{0.1\\alpha_{max}} - 1}} = cosh(N acosh( w_s ))$\n",
    "\n",
    "$ acosh \\left( \\sqrt{\\frac{10^{0.1\\alpha_{min}} - 1}{10^{0.1\\alpha_{max}} - 1}} \\right ) = N acosh( w_s )$\n",
    "\n",
    "$ N = \\frac{acosh \\left( \\sqrt{\\frac{10^{0.1\\alpha_{min}} - 1}{10^{0.1\\alpha_{max}} - 1}} \\right )}{acosh( w_s )} $\n"
   ]
  },
  {
   "cell_type": "code",
   "execution_count": 5,
   "metadata": {},
   "outputs": [
    {
     "data": {
      "text/plain": [
       "2.8951057448310378"
      ]
     },
     "execution_count": 5,
     "metadata": {},
     "output_type": "execute_result"
    }
   ],
   "source": [
    "N = m.acosh(m.sqrt((m.pow(10, alpha_min * 0.1) - 1) / (m.pow(10, alpha_max * 0.1) - 1))) / m.acosh(w_s)\n",
    "N"
   ]
  },
  {
   "cell_type": "markdown",
   "metadata": {},
   "source": [
    "Como el orden de un filtro es un número entero, debemos redondear al entero superior el valor de N:"
   ]
  },
  {
   "cell_type": "code",
   "execution_count": 4,
   "metadata": {},
   "outputs": [
    {
     "data": {
      "text/plain": [
       "3"
      ]
     },
     "execution_count": 4,
     "metadata": {},
     "output_type": "execute_result"
    }
   ],
   "source": [
    "N = m.ceil(N)\n",
    "N"
   ]
  },
  {
   "cell_type": "markdown",
   "metadata": {},
   "source": [
    "## Cálculo de los coeficientes del polinomio del filtro\n",
    "\n",
    "Dado que tenemos un filtro Chebyshev, existen dos formas de poder calcular las raíces del denominador. Para ello, podemos seguir el método propuesto en la sección 7.3 de Design of Analog Filters, o bien trabajar con parte de función ya que propone un método alternativo más general. Tomaremos el segundo camino.\n",
    "\n",
    "Las funciones armónicas de Chebyshev pueden ser expresadas por equivantes polinómicos que siguen una forma recursiva de serie:\n",
    "\n",
    "$C(N,w) = 2 w C(N-1,w) - C(N-2, w)$ con $C(0,w) = 1$ y $C(1,w) = w$.\n",
    "\n",
    "Así:\n",
    "\n",
    "- $N = 2$: $C(2, w) = 2 w^2 - 1 $\n",
    "- $N = 3$: $C(3, w) = 2 w (2 w^2 - 1) - w = 4w^3 - 2w - w = 4w^3 - 3w$\n",
    "\n",
    "Dado el módulo cuadrado de la transferencia en $w$, podemos expresarlo en $s$ sabiendo que $s = jw$:\n",
    "\n",
    "$|H_{(jw)}|^2 = H_{(jw)} H^*_{(jw)} = H_{(s)} H_{(-s)} |s=jw$\n",
    "\n",
    "$|H_{(w)}|^2 = \\frac{1}{1 + \\epsilon^2 (4w^3 - 3w)^2} = H_{(s)} H_{(-s)} |s=jw$\n",
    "\n",
    "$|H_{(w)}|^2 = \\frac{1}{1 + 16 \\epsilon^2 w^6 - 24 \\epsilon^2 w^4 + 9 \\epsilon^2 w^2} $\n",
    "\n",
    "$H_{(s)} H_{(-s)} |s=jw = \\frac{1}{1 - 16 \\epsilon^2 s^6 - 24 \\epsilon^2 s^4 - 9 \\epsilon^2 s^2} $\n",
    "\n",
    "Además, sabemos que $2 N = 6$, o sea, que $H_{(s)}$ tiene un denominador cuyo polinomio es de grado 3, y $H_{(-s)}$ también. \n",
    "\n",
    "$H_{(s)} H_{(-s)} = \\frac{1}{(s^3+ as^2 + bs + c)(-s^3+ as^2 - bs + c)}$\n",
    "\n",
    "Note que los términos impares del segundo paréntesis son negativos, esto es producto de ser la representación de $H_{(-s)}$.\n",
    "\n",
    "Podemos así trabajar el denominador para llegar a un expresión como la siguiente:\n",
    "\n",
    "$\\frac{1}{1 - 16 \\epsilon^2 s^6 - 24 \\epsilon^2 s^4 - 9 \\epsilon^2 s^2} = \\frac{1}{-s^6 + (a - a)s^5 + (a^2 - 2b)s^4 + (c - ab + ab - c)s^3 + (2ac - b^2)s^2 + (bc - bc)s + c^2}$\n",
    "\n",
    "$\\frac{\\frac{1}{16\\epsilon^2}}{\\frac{1}{16 \\epsilon^2} - s^6 - \\frac{3}{2} s^4 - \\frac{9}{16} s^2} = \\frac{1}{-s^6 + 0 s^5 + (a^2 - 2b)s^4 + 0s^3 + (2ac - b^2)s^2 + 0s + c^2}$\n",
    "\n",
    "Podemos entonces igualar término a término de la expresión:\n",
    "\n",
    "| Coeficientes por grado     |                        |\n",
    "|----------------------------|------------------------|\n",
    "| $\\frac{1}{16\\epsilon^2}$   | $c^2$                  |\n",
    "| $0 s$                      | $0 s$                  |\n",
    "| $-\\frac{9}{16} s^2$        | $(2ac - b^2)s^2$       |\n",
    "| $0 s^3$                    | $0 s^3$                |\n",
    "| $-\\frac{3}{2} s^4$         | $(a^2 - 2b)s^4$        |\n",
    "| $0 s^5$                    | $0 s^5$                |\n",
    "| $- s^6$                    | $-s^6$                 |\n",
    "\n",
    "Así, podemos distinguir las siguientes ecuaciones:\n",
    "\n",
    "$\\frac{1}{16\\epsilon^2} = c^2$\n",
    "\n",
    "$-\\frac{9}{16} = 2ac - b^2$\n",
    "\n",
    "$-\\frac{3}{2} = a^2 - 2b$\n",
    "\n",
    "Resolviendo:\n",
    "\n",
    "- $a = 0,9883$\n",
    "- $b = 1,2384$\n",
    "- $c = 0,4913$\n",
    "\n",
    "Lo que resulta:\n",
    "\n",
    "$H_{(s)} = \\frac{0,4913}{s^3 + 0,9883 s^2 + 1,2384 s + 0,4913}$\n"
   ]
  },
  {
   "cell_type": "code",
   "execution_count": 10,
   "metadata": {},
   "outputs": [
    {
     "data": {
      "image/png": "[encoded data removed]",
      "text/plain": [
       "<Figure size 432x288 with 1 Axes>"
      ]
     },
     "metadata": {
      "needs_background": "light"
     },
     "output_type": "display_data"
    },
    {
     "data": {
      "image/png": "[encoded data removed]",
      "text/plain": [
       "<Figure size 432x288 with 1 Axes>"
      ]
     },
     "metadata": {
      "needs_background": "light"
     },
     "output_type": "display_data"
    }
   ],
   "source": [
    "import scipy.signal as signal\n",
    "import splane\n",
    "\n",
    "num = [0.4913]\n",
    "den = [1, 0.9883, 1.2384, 0.4913]\n",
    "filtro = signal.TransferFunction(num, den)\n",
    "\n",
    "splane.bodePlot(filtro)"
   ]
  },
  {
   "cell_type": "markdown",
   "metadata": {},
   "source": [
    "## Cálculo y visualización de los polos\n",
    "\n",
    "Factorizamos el denominador y obtenemos las siguientes raíces:\n",
    "\n",
    "$s_1 = -0,4942$\n",
    "\n",
    "$s_{23} = -0,2471 \\pm j 0,9660$\n",
    "\n",
    "Existen varios métodos para hacer esto, podemos destacar:\n",
    "\n",
    "- Regla de Ruffini\n",
    "- Newton Raphson\n",
    "\n",
    "Y muchos otros más. En Python:"
   ]
  },
  {
   "cell_type": "code",
   "execution_count": 6,
   "metadata": {},
   "outputs": [
    {
     "data": {
      "text/plain": [
       "array([-0.24707084+0.96600817j, -0.24707084-0.96600817j,\n",
       "       -0.49415832+0.j        ])"
      ]
     },
     "execution_count": 6,
     "metadata": {},
     "output_type": "execute_result"
    }
   ],
   "source": [
    "import numpy as np\n",
    "\n",
    "raices = np.roots(den)\n",
    "raices"
   ]
  },
  {
   "cell_type": "markdown",
   "metadata": {},
   "source": [
    "Grafiquemos los polos para ver su ubicación en el plano $s$:"
   ]
  },
  {
   "cell_type": "code",
   "execution_count": 7,
   "metadata": {},
   "outputs": [
    {
     "name": "stdout",
     "output_type": "stream",
     "text": [
      "0 zeros: []\n",
      "3 poles: [-0.24707084+0.96600817j -0.24707084-0.96600817j -0.49415832+0.j        ]\n",
      "gain: 0.4913\n"
     ]
    },
    {
     "data": {
      "image/png": "[encoded data removed]",
      "text/plain": [
       "<Figure size 432x288 with 1 Axes>"
      ]
     },
     "metadata": {
      "needs_background": "light"
     },
     "output_type": "display_data"
    }
   ],
   "source": [
    "splane.pzmap(filtro)"
   ]
  },
  {
   "cell_type": "markdown",
   "metadata": {},
   "source": [
    "## Síntesis del filtro con bloques pasivos buffereados\n",
    "\n",
    "El siguiente paso consta de la síntesis del filtro. Este proceso lo vamos a dividir en dos:\n",
    "\n",
    "- Síntesis del circuito normalizado\n",
    "- Desnormalización de componentes\n",
    "\n",
    "Esto es bastante conveniente, ya que el trabajo con los valores de los componentes y los coeficientes es mucho más simple hacerlo de forma normalizada."
   ]
  },
  {
   "cell_type": "markdown",
   "metadata": {},
   "source": [
    "### Síntesis del circuito normalizado\n",
    "\n",
    "En este caso, optamos por una topología en cascada pasiva. Podemos dividir la función transferencia en estructuras de primero o segundo orden en cascada. Al tener polos complejos conjugados, dichos pares de polos no pueden ser separados en polos simples con componente imaginaria.\n",
    "\n",
    "Así, utilizaremos bloques circuitales con transferencia conocida, como ser:\n",
    "\n",
    "<img src=\"ejemplo_diseno_maxima_planicidad/segundo_orden.png\"> \n",
    "<img src=\"ejemplo_diseno_maxima_planicidad/primer_orden.png\">\n",
    "\n",
    "Cuando el filtro tenga orden superior a dos, utilizaremos amplificadores operacionales para adaptar impedancias entre estructuras (recordar que el amplificador operacional tiene impedancia de entrada infinita y de salida nula).\n",
    "\n",
    "Entonces, analicemos la estructura de segundo orden. La transferencia de la misma queda como ejercicio para el alumno, deberían llegar a la siguiente expresión:\n",
    "\n",
    "$T_{(s)} = \\frac{\\frac{1}{LC}}{s^2 + \\frac{s}{RC} + \\frac{1}{LC}}$\n",
    "\n",
    "Por igualación entre las expresiones:\n",
    "\n",
    "$T_{1_{(s)}} = \\frac{K w^2_0}{s^2 + \\frac{w_0}{Q}s + w^2_0} = \\frac{0.9942}{s^2 + 0.4941 s + 0.9942}$\n",
    "\n",
    "Obtenemos:\n",
    "\n",
    "$w^2_0 = \\frac{1}{LC}$\n",
    "\n",
    "$\\frac{w_0}{Q} = \\frac{1}{RC}$\n",
    "\n",
    "$K w^2_0 = \\frac{1}{LC} $\n",
    "\n",
    "Así, vemos que la ganancia $K$ de nuestro circuito es $1$, una limitación de nuestra estructura. Trabajando con las expresiones anteriores:\n",
    "\n",
    "$w_0 = \\frac{1}{\\sqrt{LC}}$\n",
    "\n",
    "$Q = R C w_0$\n",
    "\n",
    "Al tener dos restricciones y tres grados de libertad, debemos agregar una nueva restricción para poder definir los valores de los parámetros del circuito. Proponemos entonces asignarle de forma arbitraria el valor al capacitor *(elemento común en ambos parámetros $w_0$ y $Q$)* tal que:\n",
    "\n",
    "$C = 1$\n",
    "\n",
    "Así:\n",
    "\n",
    "$L = \\frac{1}{0.9942} = 1.0058$\n",
    "\n",
    "$R = \\frac{1}{0.4941} \\to R = 2.0238$\n",
    "\n",
    "Terminamos con el circuito pasa bajos. En este caso, la transferencia será:\n",
    "\n",
    "$T_{2_{(s)}} = \\frac{\\frac{1}{RC}}{s + \\frac{1}{RC}} $\n",
    "\n",
    "Que debe ser equivalente a:\n",
    "\n",
    "$T_{2_{(s)}} = \\frac{0.4942}{s + 0.4942} $\n",
    "\n",
    "Nuevamente, las equivalencias son:\n",
    "\n",
    "$\\frac{1}{RC} = 0.4942$\n",
    "\n",
    "Mantendremos el mismo valor de capacitor:\n",
    "\n",
    "$C = 1$\n",
    "\n",
    "$R = \\frac{1}{0.4942} = 2,0235$\n",
    "\n",
    "Finalmente el circuito resulta:\n",
    "\n",
    "<img src=\"ejemplo_diseno_chebyshev/normalizado.png\"> "
   ]
  },
  {
   "cell_type": "markdown",
   "metadata": {},
   "source": [
    "### Desnormalización de componentes\n",
    "\n",
    "El proceso de síntesis de la función transferencia requirió dos normas de frecuencia, que a continuación unificamos en una:\n",
    "\n",
    "$N_{\\Omega} = N_{\\Omega_{1}} $"
   ]
  },
  {
   "cell_type": "code",
   "execution_count": 8,
   "metadata": {},
   "outputs": [
    {
     "data": {
      "text/plain": [
       "6283.185307179586"
      ]
     },
     "execution_count": 8,
     "metadata": {},
     "output_type": "execute_result"
    }
   ],
   "source": [
    "N_omega = N_omega_1\n",
    "N_omega"
   ]
  },
  {
   "cell_type": "markdown",
   "metadata": {},
   "source": [
    "Así, convertiremos en frecuencia todos los componentes según las expresiones ya vistas."
   ]
  },
  {
   "cell_type": "code",
   "execution_count": 9,
   "metadata": {},
   "outputs": [
    {
     "name": "stdout",
     "output_type": "stream",
     "text": [
      "C_1: 0.00015915494309189535; L_1: 0.00016007804176182834; R_1: 2.0238\n",
      "C_2: 0.00015915494309189535, R_2: 2.0235\n"
     ]
    }
   ],
   "source": [
    "# Componentes del circuito de segundo orden normalizado\n",
    "C_1_n = 1\n",
    "L_1_n = 1.0058\n",
    "R_1_n = 2.0238\n",
    "\n",
    "# Componentes del segundo orden desnormalizado:\n",
    "C_1 = C_1_n / N_omega\n",
    "L_1 = L_1_n / N_omega\n",
    "R_1 = R_1_n\n",
    "\n",
    "print('C_1: {}; L_1: {}; R_1: {}'.format(C_1, L_1, R_1))\n",
    "\n",
    "# Componentes del circuito de primer orden normalizado\n",
    "C_2_n = 1\n",
    "R_2_n = 2.0235\n",
    "\n",
    "# Componentes del segundo orden desnormalizado:\n",
    "C_2 = C_2_n / N_omega\n",
    "R_2 = R_2_n\n",
    "\n",
    "print('C_2: {}, R_2: {}'.format(C_2, R_2))"
   ]
  },
  {
   "cell_type": "markdown",
   "metadata": {},
   "source": [
    "Resultando en el siguiente [circuito.asc](./ejemplo_diseno_chebyshev/circuito.asc):\n",
    "\n",
    "<img src=\"./ejemplo_diseno_chebyshev/desnormalizado.png\">\n",
    "\n",
    "<img src=\"./ejemplo_diseno_chebyshev/respuesta_en_frecuencia.png\">"
   ]
  },
  {
   "cell_type": "markdown",
   "metadata": {},
   "source": [
    "# Ejemplo de diseño con estructura KHN (filtro de variable de estado)\n",
    "\n",
    "El circuito siguiente es un filtro bastante interesante de analizar ya que, desde el punto de vista de la sensibilidad, nos permite ajustar los parámetros de una estructura de segundo orden ($K, w_0 y Q$) independientemente uno del otro a la vez que podemos obtener un filtro pasa bajos, pasa altos y pasa banda (también elimina banda o bicuadrático generalizado con el agregado de un sumador externo) en la misma estructura.\n",
    "\n",
    "<img src=\"./ejemplo_diseno_chebyshev/khn.png\">\n",
    "\n",
    "No es el interés de este artículo el detalle por menor de la síntesis de esta estructura, por lo que se deja al lector dicho trabajo.\n",
    "\n",
    "Este circuito es un KHN compuesto con la misma estructura de primer orden que se obtuvo antes para complementar con el polo simple. En cuanto a la estructura de segundo orden, la transferencia del circuito es:\n",
    "\n",
    "$T_{1_{(s)}} = -\\frac{\\frac{R_2}{R_g R_{f1} R_{f2} C_1 C_2}}{s^2 + s \\frac{1}{R_{f1} C_1} R_2 \\frac{R_Q}{R_3 + R_Q} \\left(\\frac{1}{R_1} +\\frac{1}{R_2} +\\frac{1}{R_g} \\right) + \\frac{R_2}{R_1 R_{f1} R_{f2} C_1 C_2}}$\n",
    "\n",
    "Donde podemos distinguir:\n",
    "\n",
    "$K = \\frac{R_1}{R_g}$\n",
    "\n",
    "$w_0^2 = \\frac{R_2}{R_1 R_{f1} R_{f2} C_1 C_2} $\n",
    "\n",
    "$Q = \\frac{w_0}{\\frac{1}{R_{f1} C_1} R_2 \\frac{R_Q}{R_3 + R_Q} \\left(\\frac{1}{R_1} +\\frac{1}{R_2} +\\frac{1}{R_g} \\right)}$\n",
    "\n",
    "Como vemos, el circuito posee muchos grados de libertad lo que dificulta el diseño al no tener expresiones que nos permitan identificar el valor de los componentes. Optamos por las siguientes restricciones:\n",
    "\n",
    "- $C_1 = C_2 = C$\n",
    "- $R_{f1} = R_{f2} = R$\n",
    "- $R_1 = R_2 = R_3 = R_{\\alpha}$\n",
    "\n",
    "Lo que deriva en:\n",
    "\n",
    "$K = \\frac{R_\\alpha}{R_g}$\n",
    "\n",
    "$w_0^2 = \\frac{R_{\\alpha}}{R_{\\alpha} R R C C} = \\frac{1}{R^2 C^2} $\n",
    "\n",
    "$Q = \\frac{\\frac{1}{RC}}{\\frac{1}{RC} R_{\\alpha} \\frac{R_Q}{R_{\\alpha} + R_Q} \\left(\\frac{1}{R_{\\alpha}} +\\frac{1}{R_{\\alpha}} +\\frac{1}{R_g} \\right)}$\n",
    "\n",
    "$Q = \\frac{\\frac{1}{RC}}{\\frac{1}{RC} R_{\\alpha} \\frac{R_Q}{R_{\\alpha} + R_Q} \\left(\\frac{1}{R_{\\alpha}} +\\frac{1}{R_{\\alpha}} +\\frac{1}{R_g} \\right)}$\n",
    "\n",
    "$Q = \\left(1 + \\frac{R_{\\alpha}}{R_Q} \\right) \\frac{R_g}{2 R_g + R_{\\alpha}}$\n",
    "\n",
    "Usando los despejes de la sección anterior, tenemos que:\n",
    "\n",
    "$K = 1 = \\frac{R_\\alpha}{R_g}$\n",
    "\n",
    "$w_0^2 = 0.9942 = \\frac{1}{R^2 C^2} $\n",
    "\n",
    "$Q = 2.0117 = \\left(1 + \\frac{R_{\\alpha}}{R_Q} \\right) \\frac{R_g}{2 R_g + R_{\\alpha}} $\n",
    "\n",
    "Analizando las expresiones, vemos que:\n",
    "\n",
    "- $R_{\\alpha} = R_g $, y si fijamos $R_g$ o $R_{\\alpha}$ afectamos a Q en una constante ($\\frac{1}{3}$).\n",
    "- $R$ y $C$ sólo afectan a $w_0$ por lo que fijar una en un valor arbitrario nos permite ajustar el parámetro con el otro componente.\n",
    "- $R_Q$ nos permite ajustar $Q$ una vez fijados los anteriores valores. El valor mínimo de $Q$ que puedo fijar en esta condición es $\\frac{1}{3}$ y es menor que el del requerimiento.\n",
    "\n",
    "Con este análisis en mente, fijamos valores arbitrarios para ajustar los parámetros:\n",
    "\n",
    "- $C = 1$\n",
    "- $R = \\frac{1}{\\sqrt{0.9942}} = 1.003$\n",
    "- $R_g = R_{\\alpha} = 1$\n",
    "\n",
    "Finalmente, despejamos $R_Q$ que resulta $R_Q = 0.1986$.\n",
    "\n",
    "El siguiente paso, es la desnormalización de componentes y verificación de la respuesta en frecuencia.\n",
    "\n",
    "\n",
    "<img src=\"./ejemplo_diseno_chebyshev/khn_respuesta_en_freq.png\">\n",
    "\n",
    "Podrán encontrar el circuito de spice [aquí](\"./ejemplo_diseno_chebyshev/khn.asc\")."
   ]
  }
 ],
 "metadata": {
  "kernelspec": {
   "display_name": "Python 3",
   "language": "python",
   "name": "python3"
  },
  "language_info": {
   "codemirror_mode": {
    "name": "ipython",
    "version": 3
   },
   "file_extension": ".py",
   "mimetype": "text/x-python",
   "name": "python",
   "nbconvert_exporter": "python",
   "pygments_lexer": "ipython3",
   "version": "3.7.4"
  }
 },
 "nbformat": 4,
 "nbformat_minor": 2
}
